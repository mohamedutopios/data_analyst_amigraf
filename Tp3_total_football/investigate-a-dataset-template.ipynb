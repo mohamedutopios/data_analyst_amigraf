{
 "cells": [
  {
   "cell_type": "markdown",
   "metadata": {},
   "source": [
    "\n",
    "# Project: Investigate Soccer Database\n",
    "\n",
    "## Table of Contents\n",
    "<ul>\n",
    "<li><a href=\"#intro\">Introduction</a></li>\n",
    "<li><a href=\"#wrangling\">Data Wrangling</a></li>\n",
    "<li><a href=\"#eda\">Exploratory Data Analysis</a></li>\n",
    "<li><a href=\"#conclusions\">Conclusions</a></li>\n",
    "</ul>"
   ]
  },
  {
   "cell_type": "markdown",
   "metadata": {},
   "source": [
    "<a id='intro'></a>\n",
    "## Introduction\n",
    "\n",
    "> This soccer database comes from Kaggle and is well suited for data analysis and machine learning. It contains data for soccer matches, players, and teams from several European countries from 2008 to 2016. This dataset is quite extensive, and we encourage you to read more about it [here](https://www.kaggle.com/hugomathien/soccer).\n",
    "\n",
    "Research questions:\n",
    "* What teams improved the most over the time period?\n",
    "* What is the best player in penalties?\n",
    "* Which factors lead to the most victories?"
   ]
  },
  {
   "cell_type": "code",
   "execution_count": 1,
   "metadata": {},
   "outputs": [],
   "source": [
    "import pandas as pd\n",
    "import numpy as np\n",
    "import matplotlib.pyplot as plt\n",
    "import sqlite3\n",
    "import seaborn as sns\n",
    "%matplotlib inline"
   ]
  },
  {
   "cell_type": "markdown",
   "metadata": {},
   "source": [
    "<a id='wrangling'></a>\n",
    "## Data Wrangling\n",
    "\n",
    "> **Tip**: In this section of the report, we will load in the data, check for cleanliness, and then trim and clean the dataset for analysis.\n",
    "\n",
    "### General Properties"
   ]
  },
  {
   "cell_type": "code",
   "execution_count": 2,
   "metadata": {},
   "outputs": [
    {
     "data": {
      "text/html": [
       "<div>\n",
       "<style scoped>\n",
       "    .dataframe tbody tr th:only-of-type {\n",
       "        vertical-align: middle;\n",
       "    }\n",
       "\n",
       "    .dataframe tbody tr th {\n",
       "        vertical-align: top;\n",
       "    }\n",
       "\n",
       "    .dataframe thead th {\n",
       "        text-align: right;\n",
       "    }\n",
       "</style>\n",
       "<table border=\"1\" class=\"dataframe\">\n",
       "  <thead>\n",
       "    <tr style=\"text-align: right;\">\n",
       "      <th></th>\n",
       "      <th>id</th>\n",
       "      <th>name</th>\n",
       "    </tr>\n",
       "  </thead>\n",
       "  <tbody>\n",
       "    <tr>\n",
       "      <th>0</th>\n",
       "      <td>1</td>\n",
       "      <td>Belgium</td>\n",
       "    </tr>\n",
       "    <tr>\n",
       "      <th>1</th>\n",
       "      <td>1729</td>\n",
       "      <td>England</td>\n",
       "    </tr>\n",
       "    <tr>\n",
       "      <th>2</th>\n",
       "      <td>4769</td>\n",
       "      <td>France</td>\n",
       "    </tr>\n",
       "    <tr>\n",
       "      <th>3</th>\n",
       "      <td>7809</td>\n",
       "      <td>Germany</td>\n",
       "    </tr>\n",
       "    <tr>\n",
       "      <th>4</th>\n",
       "      <td>10257</td>\n",
       "      <td>Italy</td>\n",
       "    </tr>\n",
       "    <tr>\n",
       "      <th>5</th>\n",
       "      <td>13274</td>\n",
       "      <td>Netherlands</td>\n",
       "    </tr>\n",
       "    <tr>\n",
       "      <th>6</th>\n",
       "      <td>15722</td>\n",
       "      <td>Poland</td>\n",
       "    </tr>\n",
       "    <tr>\n",
       "      <th>7</th>\n",
       "      <td>17642</td>\n",
       "      <td>Portugal</td>\n",
       "    </tr>\n",
       "    <tr>\n",
       "      <th>8</th>\n",
       "      <td>19694</td>\n",
       "      <td>Scotland</td>\n",
       "    </tr>\n",
       "    <tr>\n",
       "      <th>9</th>\n",
       "      <td>21518</td>\n",
       "      <td>Spain</td>\n",
       "    </tr>\n",
       "    <tr>\n",
       "      <th>10</th>\n",
       "      <td>24558</td>\n",
       "      <td>Switzerland</td>\n",
       "    </tr>\n",
       "  </tbody>\n",
       "</table>\n",
       "</div>"
      ],
      "text/plain": [
       "       id         name\n",
       "0       1      Belgium\n",
       "1    1729      England\n",
       "2    4769       France\n",
       "3    7809      Germany\n",
       "4   10257        Italy\n",
       "5   13274  Netherlands\n",
       "6   15722       Poland\n",
       "7   17642     Portugal\n",
       "8   19694     Scotland\n",
       "9   21518        Spain\n",
       "10  24558  Switzerland"
      ]
     },
     "execution_count": 2,
     "metadata": {},
     "output_type": "execute_result"
    }
   ],
   "source": [
    "# connecting to the database through sqlite\n",
    "con = sqlite3.connect(\"database.sqlite\")\n",
    "# This query gets the Country table\n",
    "df_country = pd.read_sql_query(\"SELECT * from Country\", con)\n",
    "df_country"
   ]
  },
  {
   "cell_type": "code",
   "execution_count": 3,
   "metadata": {},
   "outputs": [
    {
     "data": {
      "text/html": [
       "<div>\n",
       "<style scoped>\n",
       "    .dataframe tbody tr th:only-of-type {\n",
       "        vertical-align: middle;\n",
       "    }\n",
       "\n",
       "    .dataframe tbody tr th {\n",
       "        vertical-align: top;\n",
       "    }\n",
       "\n",
       "    .dataframe thead th {\n",
       "        text-align: right;\n",
       "    }\n",
       "</style>\n",
       "<table border=\"1\" class=\"dataframe\">\n",
       "  <thead>\n",
       "    <tr style=\"text-align: right;\">\n",
       "      <th></th>\n",
       "      <th>id</th>\n",
       "      <th>name</th>\n",
       "      <th>name</th>\n",
       "    </tr>\n",
       "  </thead>\n",
       "  <tbody>\n",
       "    <tr>\n",
       "      <th>0</th>\n",
       "      <td>1</td>\n",
       "      <td>Belgium</td>\n",
       "      <td>Belgium Jupiler League</td>\n",
       "    </tr>\n",
       "    <tr>\n",
       "      <th>1</th>\n",
       "      <td>1729</td>\n",
       "      <td>England</td>\n",
       "      <td>England Premier League</td>\n",
       "    </tr>\n",
       "    <tr>\n",
       "      <th>2</th>\n",
       "      <td>4769</td>\n",
       "      <td>France</td>\n",
       "      <td>France Ligue 1</td>\n",
       "    </tr>\n",
       "    <tr>\n",
       "      <th>3</th>\n",
       "      <td>7809</td>\n",
       "      <td>Germany</td>\n",
       "      <td>Germany 1. Bundesliga</td>\n",
       "    </tr>\n",
       "    <tr>\n",
       "      <th>4</th>\n",
       "      <td>10257</td>\n",
       "      <td>Italy</td>\n",
       "      <td>Italy Serie A</td>\n",
       "    </tr>\n",
       "    <tr>\n",
       "      <th>5</th>\n",
       "      <td>13274</td>\n",
       "      <td>Netherlands</td>\n",
       "      <td>Netherlands Eredivisie</td>\n",
       "    </tr>\n",
       "    <tr>\n",
       "      <th>6</th>\n",
       "      <td>15722</td>\n",
       "      <td>Poland</td>\n",
       "      <td>Poland Ekstraklasa</td>\n",
       "    </tr>\n",
       "    <tr>\n",
       "      <th>7</th>\n",
       "      <td>17642</td>\n",
       "      <td>Portugal</td>\n",
       "      <td>Portugal Liga ZON Sagres</td>\n",
       "    </tr>\n",
       "    <tr>\n",
       "      <th>8</th>\n",
       "      <td>19694</td>\n",
       "      <td>Scotland</td>\n",
       "      <td>Scotland Premier League</td>\n",
       "    </tr>\n",
       "    <tr>\n",
       "      <th>9</th>\n",
       "      <td>21518</td>\n",
       "      <td>Spain</td>\n",
       "      <td>Spain LIGA BBVA</td>\n",
       "    </tr>\n",
       "    <tr>\n",
       "      <th>10</th>\n",
       "      <td>24558</td>\n",
       "      <td>Switzerland</td>\n",
       "      <td>Switzerland Super League</td>\n",
       "    </tr>\n",
       "  </tbody>\n",
       "</table>\n",
       "</div>"
      ],
      "text/plain": [
       "       id         name                      name\n",
       "0       1      Belgium    Belgium Jupiler League\n",
       "1    1729      England    England Premier League\n",
       "2    4769       France            France Ligue 1\n",
       "3    7809      Germany     Germany 1. Bundesliga\n",
       "4   10257        Italy             Italy Serie A\n",
       "5   13274  Netherlands    Netherlands Eredivisie\n",
       "6   15722       Poland        Poland Ekstraklasa\n",
       "7   17642     Portugal  Portugal Liga ZON Sagres\n",
       "8   19694     Scotland   Scotland Premier League\n",
       "9   21518        Spain           Spain LIGA BBVA\n",
       "10  24558  Switzerland  Switzerland Super League"
      ]
     },
     "execution_count": 3,
     "metadata": {},
     "output_type": "execute_result"
    }
   ],
   "source": [
    "# This query gets the League table joined with the Counrty table\n",
    "league_query = 'SELECT L.id, C.name, L.name from League L JOIN Country C ON C.id = L.country_id'\n",
    "df_league = pd.read_sql_query(league_query, con)\n",
    "df_league"
   ]
  },
  {
   "cell_type": "code",
   "execution_count": 4,
   "metadata": {},
   "outputs": [
    {
     "data": {
      "text/html": [
       "<div>\n",
       "<style scoped>\n",
       "    .dataframe tbody tr th:only-of-type {\n",
       "        vertical-align: middle;\n",
       "    }\n",
       "\n",
       "    .dataframe tbody tr th {\n",
       "        vertical-align: top;\n",
       "    }\n",
       "\n",
       "    .dataframe thead th {\n",
       "        text-align: right;\n",
       "    }\n",
       "</style>\n",
       "<table border=\"1\" class=\"dataframe\">\n",
       "  <thead>\n",
       "    <tr style=\"text-align: right;\">\n",
       "      <th></th>\n",
       "      <th>id</th>\n",
       "      <th>country_name</th>\n",
       "      <th>league_name</th>\n",
       "      <th>season</th>\n",
       "      <th>stage</th>\n",
       "      <th>date</th>\n",
       "      <th>home_team</th>\n",
       "      <th>away_team</th>\n",
       "      <th>home_team_goal</th>\n",
       "      <th>away_team_goal</th>\n",
       "    </tr>\n",
       "  </thead>\n",
       "  <tbody>\n",
       "    <tr>\n",
       "      <th>0</th>\n",
       "      <td>24559</td>\n",
       "      <td>Switzerland</td>\n",
       "      <td>Switzerland Super League</td>\n",
       "      <td>2008/2009</td>\n",
       "      <td>1</td>\n",
       "      <td>2008-07-18 00:00:00</td>\n",
       "      <td>BSC Young Boys</td>\n",
       "      <td>FC Basel</td>\n",
       "      <td>1</td>\n",
       "      <td>2</td>\n",
       "    </tr>\n",
       "    <tr>\n",
       "      <th>1</th>\n",
       "      <td>24560</td>\n",
       "      <td>Switzerland</td>\n",
       "      <td>Switzerland Super League</td>\n",
       "      <td>2008/2009</td>\n",
       "      <td>1</td>\n",
       "      <td>2008-07-19 00:00:00</td>\n",
       "      <td>FC Aarau</td>\n",
       "      <td>FC Sion</td>\n",
       "      <td>3</td>\n",
       "      <td>1</td>\n",
       "    </tr>\n",
       "    <tr>\n",
       "      <th>2</th>\n",
       "      <td>24561</td>\n",
       "      <td>Switzerland</td>\n",
       "      <td>Switzerland Super League</td>\n",
       "      <td>2008/2009</td>\n",
       "      <td>1</td>\n",
       "      <td>2008-07-20 00:00:00</td>\n",
       "      <td>FC Luzern</td>\n",
       "      <td>FC Vaduz</td>\n",
       "      <td>1</td>\n",
       "      <td>2</td>\n",
       "    </tr>\n",
       "    <tr>\n",
       "      <th>3</th>\n",
       "      <td>24562</td>\n",
       "      <td>Switzerland</td>\n",
       "      <td>Switzerland Super League</td>\n",
       "      <td>2008/2009</td>\n",
       "      <td>1</td>\n",
       "      <td>2008-07-20 00:00:00</td>\n",
       "      <td>Neuchâtel Xamax</td>\n",
       "      <td>FC Zürich</td>\n",
       "      <td>1</td>\n",
       "      <td>2</td>\n",
       "    </tr>\n",
       "    <tr>\n",
       "      <th>4</th>\n",
       "      <td>24613</td>\n",
       "      <td>Switzerland</td>\n",
       "      <td>Switzerland Super League</td>\n",
       "      <td>2008/2009</td>\n",
       "      <td>2</td>\n",
       "      <td>2008-07-23 00:00:00</td>\n",
       "      <td>FC Basel</td>\n",
       "      <td>Grasshopper Club Zürich</td>\n",
       "      <td>1</td>\n",
       "      <td>0</td>\n",
       "    </tr>\n",
       "  </tbody>\n",
       "</table>\n",
       "</div>"
      ],
      "text/plain": [
       "      id country_name               league_name     season  stage  \\\n",
       "0  24559  Switzerland  Switzerland Super League  2008/2009      1   \n",
       "1  24560  Switzerland  Switzerland Super League  2008/2009      1   \n",
       "2  24561  Switzerland  Switzerland Super League  2008/2009      1   \n",
       "3  24562  Switzerland  Switzerland Super League  2008/2009      1   \n",
       "4  24613  Switzerland  Switzerland Super League  2008/2009      2   \n",
       "\n",
       "                  date        home_team                away_team  \\\n",
       "0  2008-07-18 00:00:00   BSC Young Boys                 FC Basel   \n",
       "1  2008-07-19 00:00:00         FC Aarau                  FC Sion   \n",
       "2  2008-07-20 00:00:00        FC Luzern                 FC Vaduz   \n",
       "3  2008-07-20 00:00:00  Neuchâtel Xamax                FC Zürich   \n",
       "4  2008-07-23 00:00:00         FC Basel  Grasshopper Club Zürich   \n",
       "\n",
       "   home_team_goal  away_team_goal  \n",
       "0               1               2  \n",
       "1               3               1  \n",
       "2               1               2  \n",
       "3               1               2  \n",
       "4               1               0  "
      ]
     },
     "execution_count": 4,
     "metadata": {},
     "output_type": "execute_result"
    }
   ],
   "source": [
    "# This query gets the Match tabel joined with the Country table, the League table and the Team table.\n",
    "match_query = \"\"\"SELECT M.id, \n",
    "                        C.name AS country_name, \n",
    "                        L.name AS league_name, \n",
    "                        season, \n",
    "                        stage, \n",
    "                        date,\n",
    "                        HT.team_long_name AS  home_team,\n",
    "                        AT.team_long_name AS away_team,\n",
    "                        home_team_goal, \n",
    "                        away_team_goal                                        \n",
    "                    FROM Match M\n",
    "                    JOIN Country C on C.id = M.country_id\n",
    "                    JOIN League L on L.id = M.league_id\n",
    "                    LEFT JOIN Team AS HT on HT.team_api_id = M.home_team_api_id\n",
    "                    LEFT JOIN Team AS AT on AT.team_api_id = M.away_team_api_id\n",
    "                    ORDER by date\n",
    "                    \"\"\"\n",
    "df_match = pd.read_sql_query(match_query, con)\n",
    "df_match.head()"
   ]
  },
  {
   "cell_type": "code",
   "execution_count": 5,
   "metadata": {},
   "outputs": [
    {
     "data": {
      "text/html": [
       "<div>\n",
       "<style scoped>\n",
       "    .dataframe tbody tr th:only-of-type {\n",
       "        vertical-align: middle;\n",
       "    }\n",
       "\n",
       "    .dataframe tbody tr th {\n",
       "        vertical-align: top;\n",
       "    }\n",
       "\n",
       "    .dataframe thead th {\n",
       "        text-align: right;\n",
       "    }\n",
       "</style>\n",
       "<table border=\"1\" class=\"dataframe\">\n",
       "  <thead>\n",
       "    <tr style=\"text-align: right;\">\n",
       "      <th></th>\n",
       "      <th>id</th>\n",
       "      <th>player_api_id</th>\n",
       "      <th>player_name</th>\n",
       "      <th>player_fifa_api_id</th>\n",
       "      <th>birthday</th>\n",
       "      <th>height</th>\n",
       "      <th>weight</th>\n",
       "      <th>id</th>\n",
       "      <th>player_fifa_api_id</th>\n",
       "      <th>player_api_id</th>\n",
       "      <th>...</th>\n",
       "      <th>vision</th>\n",
       "      <th>penalties</th>\n",
       "      <th>marking</th>\n",
       "      <th>standing_tackle</th>\n",
       "      <th>sliding_tackle</th>\n",
       "      <th>gk_diving</th>\n",
       "      <th>gk_handling</th>\n",
       "      <th>gk_kicking</th>\n",
       "      <th>gk_positioning</th>\n",
       "      <th>gk_reflexes</th>\n",
       "    </tr>\n",
       "  </thead>\n",
       "  <tbody>\n",
       "    <tr>\n",
       "      <th>0</th>\n",
       "      <td>1</td>\n",
       "      <td>505942</td>\n",
       "      <td>Aaron Appindangoye</td>\n",
       "      <td>218353</td>\n",
       "      <td>1992-02-29 00:00:00</td>\n",
       "      <td>182.88</td>\n",
       "      <td>187</td>\n",
       "      <td>1</td>\n",
       "      <td>218353</td>\n",
       "      <td>505942</td>\n",
       "      <td>...</td>\n",
       "      <td>54.0</td>\n",
       "      <td>48.0</td>\n",
       "      <td>65.0</td>\n",
       "      <td>69.0</td>\n",
       "      <td>69.0</td>\n",
       "      <td>6.0</td>\n",
       "      <td>11.0</td>\n",
       "      <td>10.0</td>\n",
       "      <td>8.0</td>\n",
       "      <td>8.0</td>\n",
       "    </tr>\n",
       "    <tr>\n",
       "      <th>1</th>\n",
       "      <td>1</td>\n",
       "      <td>505942</td>\n",
       "      <td>Aaron Appindangoye</td>\n",
       "      <td>218353</td>\n",
       "      <td>1992-02-29 00:00:00</td>\n",
       "      <td>182.88</td>\n",
       "      <td>187</td>\n",
       "      <td>2</td>\n",
       "      <td>218353</td>\n",
       "      <td>505942</td>\n",
       "      <td>...</td>\n",
       "      <td>54.0</td>\n",
       "      <td>48.0</td>\n",
       "      <td>65.0</td>\n",
       "      <td>69.0</td>\n",
       "      <td>69.0</td>\n",
       "      <td>6.0</td>\n",
       "      <td>11.0</td>\n",
       "      <td>10.0</td>\n",
       "      <td>8.0</td>\n",
       "      <td>8.0</td>\n",
       "    </tr>\n",
       "    <tr>\n",
       "      <th>2</th>\n",
       "      <td>1</td>\n",
       "      <td>505942</td>\n",
       "      <td>Aaron Appindangoye</td>\n",
       "      <td>218353</td>\n",
       "      <td>1992-02-29 00:00:00</td>\n",
       "      <td>182.88</td>\n",
       "      <td>187</td>\n",
       "      <td>3</td>\n",
       "      <td>218353</td>\n",
       "      <td>505942</td>\n",
       "      <td>...</td>\n",
       "      <td>54.0</td>\n",
       "      <td>48.0</td>\n",
       "      <td>65.0</td>\n",
       "      <td>66.0</td>\n",
       "      <td>69.0</td>\n",
       "      <td>6.0</td>\n",
       "      <td>11.0</td>\n",
       "      <td>10.0</td>\n",
       "      <td>8.0</td>\n",
       "      <td>8.0</td>\n",
       "    </tr>\n",
       "    <tr>\n",
       "      <th>3</th>\n",
       "      <td>1</td>\n",
       "      <td>505942</td>\n",
       "      <td>Aaron Appindangoye</td>\n",
       "      <td>218353</td>\n",
       "      <td>1992-02-29 00:00:00</td>\n",
       "      <td>182.88</td>\n",
       "      <td>187</td>\n",
       "      <td>4</td>\n",
       "      <td>218353</td>\n",
       "      <td>505942</td>\n",
       "      <td>...</td>\n",
       "      <td>53.0</td>\n",
       "      <td>47.0</td>\n",
       "      <td>62.0</td>\n",
       "      <td>63.0</td>\n",
       "      <td>66.0</td>\n",
       "      <td>5.0</td>\n",
       "      <td>10.0</td>\n",
       "      <td>9.0</td>\n",
       "      <td>7.0</td>\n",
       "      <td>7.0</td>\n",
       "    </tr>\n",
       "    <tr>\n",
       "      <th>4</th>\n",
       "      <td>1</td>\n",
       "      <td>505942</td>\n",
       "      <td>Aaron Appindangoye</td>\n",
       "      <td>218353</td>\n",
       "      <td>1992-02-29 00:00:00</td>\n",
       "      <td>182.88</td>\n",
       "      <td>187</td>\n",
       "      <td>5</td>\n",
       "      <td>218353</td>\n",
       "      <td>505942</td>\n",
       "      <td>...</td>\n",
       "      <td>53.0</td>\n",
       "      <td>47.0</td>\n",
       "      <td>62.0</td>\n",
       "      <td>63.0</td>\n",
       "      <td>66.0</td>\n",
       "      <td>5.0</td>\n",
       "      <td>10.0</td>\n",
       "      <td>9.0</td>\n",
       "      <td>7.0</td>\n",
       "      <td>7.0</td>\n",
       "    </tr>\n",
       "  </tbody>\n",
       "</table>\n",
       "<p>5 rows × 49 columns</p>\n",
       "</div>"
      ],
      "text/plain": [
       "   id  player_api_id         player_name  player_fifa_api_id  \\\n",
       "0   1         505942  Aaron Appindangoye              218353   \n",
       "1   1         505942  Aaron Appindangoye              218353   \n",
       "2   1         505942  Aaron Appindangoye              218353   \n",
       "3   1         505942  Aaron Appindangoye              218353   \n",
       "4   1         505942  Aaron Appindangoye              218353   \n",
       "\n",
       "              birthday  height  weight  id  player_fifa_api_id  player_api_id  \\\n",
       "0  1992-02-29 00:00:00  182.88     187   1              218353         505942   \n",
       "1  1992-02-29 00:00:00  182.88     187   2              218353         505942   \n",
       "2  1992-02-29 00:00:00  182.88     187   3              218353         505942   \n",
       "3  1992-02-29 00:00:00  182.88     187   4              218353         505942   \n",
       "4  1992-02-29 00:00:00  182.88     187   5              218353         505942   \n",
       "\n",
       "   ... vision  penalties  marking standing_tackle sliding_tackle gk_diving  \\\n",
       "0  ...   54.0       48.0     65.0            69.0           69.0       6.0   \n",
       "1  ...   54.0       48.0     65.0            69.0           69.0       6.0   \n",
       "2  ...   54.0       48.0     65.0            66.0           69.0       6.0   \n",
       "3  ...   53.0       47.0     62.0            63.0           66.0       5.0   \n",
       "4  ...   53.0       47.0     62.0            63.0           66.0       5.0   \n",
       "\n",
       "   gk_handling  gk_kicking  gk_positioning  gk_reflexes  \n",
       "0         11.0        10.0             8.0          8.0  \n",
       "1         11.0        10.0             8.0          8.0  \n",
       "2         11.0        10.0             8.0          8.0  \n",
       "3         10.0         9.0             7.0          7.0  \n",
       "4         10.0         9.0             7.0          7.0  \n",
       "\n",
       "[5 rows x 49 columns]"
      ]
     },
     "execution_count": 5,
     "metadata": {},
     "output_type": "execute_result"
    }
   ],
   "source": [
    "# This query gets the Player table joined with the Player_Attributes table\n",
    "player_query = 'SELECT * from Player P JOIN Player_Attributes PA ON PA.player_api_id = P.player_api_id'\n",
    "df_player = pd.read_sql_query(player_query, con)\n",
    "df_player.head()"
   ]
  },
  {
   "cell_type": "code",
   "execution_count": 6,
   "metadata": {},
   "outputs": [
    {
     "data": {
      "text/html": [
       "<div>\n",
       "<style scoped>\n",
       "    .dataframe tbody tr th:only-of-type {\n",
       "        vertical-align: middle;\n",
       "    }\n",
       "\n",
       "    .dataframe tbody tr th {\n",
       "        vertical-align: top;\n",
       "    }\n",
       "\n",
       "    .dataframe thead th {\n",
       "        text-align: right;\n",
       "    }\n",
       "</style>\n",
       "<table border=\"1\" class=\"dataframe\">\n",
       "  <thead>\n",
       "    <tr style=\"text-align: right;\">\n",
       "      <th></th>\n",
       "      <th>team</th>\n",
       "      <th>date</th>\n",
       "      <th>buildUpPlaySpeed</th>\n",
       "      <th>buildUpPlayDribbling</th>\n",
       "      <th>buildUpPlayDribblingClass</th>\n",
       "      <th>buildUpPlayPassing</th>\n",
       "      <th>chanceCreationPassing</th>\n",
       "      <th>chanceCreationCrossing</th>\n",
       "      <th>chanceCreationShooting</th>\n",
       "      <th>defencePressure</th>\n",
       "      <th>defenceAggression</th>\n",
       "      <th>defenceTeamWidth</th>\n",
       "    </tr>\n",
       "  </thead>\n",
       "  <tbody>\n",
       "    <tr>\n",
       "      <th>0</th>\n",
       "      <td>FC Aarau</td>\n",
       "      <td>2010-02-22 00:00:00</td>\n",
       "      <td>60</td>\n",
       "      <td>NaN</td>\n",
       "      <td>Little</td>\n",
       "      <td>50</td>\n",
       "      <td>60</td>\n",
       "      <td>65</td>\n",
       "      <td>55</td>\n",
       "      <td>50</td>\n",
       "      <td>55</td>\n",
       "      <td>45</td>\n",
       "    </tr>\n",
       "    <tr>\n",
       "      <th>1</th>\n",
       "      <td>FC Aarau</td>\n",
       "      <td>2014-09-19 00:00:00</td>\n",
       "      <td>52</td>\n",
       "      <td>48.0</td>\n",
       "      <td>Normal</td>\n",
       "      <td>56</td>\n",
       "      <td>54</td>\n",
       "      <td>63</td>\n",
       "      <td>64</td>\n",
       "      <td>47</td>\n",
       "      <td>44</td>\n",
       "      <td>54</td>\n",
       "    </tr>\n",
       "    <tr>\n",
       "      <th>2</th>\n",
       "      <td>FC Aarau</td>\n",
       "      <td>2015-09-10 00:00:00</td>\n",
       "      <td>47</td>\n",
       "      <td>41.0</td>\n",
       "      <td>Normal</td>\n",
       "      <td>54</td>\n",
       "      <td>54</td>\n",
       "      <td>63</td>\n",
       "      <td>64</td>\n",
       "      <td>47</td>\n",
       "      <td>44</td>\n",
       "      <td>54</td>\n",
       "    </tr>\n",
       "    <tr>\n",
       "      <th>3</th>\n",
       "      <td>Aberdeen</td>\n",
       "      <td>2010-02-22 00:00:00</td>\n",
       "      <td>70</td>\n",
       "      <td>NaN</td>\n",
       "      <td>Little</td>\n",
       "      <td>70</td>\n",
       "      <td>70</td>\n",
       "      <td>70</td>\n",
       "      <td>70</td>\n",
       "      <td>60</td>\n",
       "      <td>70</td>\n",
       "      <td>70</td>\n",
       "    </tr>\n",
       "    <tr>\n",
       "      <th>4</th>\n",
       "      <td>Aberdeen</td>\n",
       "      <td>2011-02-22 00:00:00</td>\n",
       "      <td>47</td>\n",
       "      <td>NaN</td>\n",
       "      <td>Little</td>\n",
       "      <td>52</td>\n",
       "      <td>53</td>\n",
       "      <td>48</td>\n",
       "      <td>52</td>\n",
       "      <td>47</td>\n",
       "      <td>47</td>\n",
       "      <td>52</td>\n",
       "    </tr>\n",
       "  </tbody>\n",
       "</table>\n",
       "</div>"
      ],
      "text/plain": [
       "       team                 date  buildUpPlaySpeed  buildUpPlayDribbling  \\\n",
       "0  FC Aarau  2010-02-22 00:00:00                60                   NaN   \n",
       "1  FC Aarau  2014-09-19 00:00:00                52                  48.0   \n",
       "2  FC Aarau  2015-09-10 00:00:00                47                  41.0   \n",
       "3  Aberdeen  2010-02-22 00:00:00                70                   NaN   \n",
       "4  Aberdeen  2011-02-22 00:00:00                47                   NaN   \n",
       "\n",
       "  buildUpPlayDribblingClass  buildUpPlayPassing  chanceCreationPassing  \\\n",
       "0                    Little                  50                     60   \n",
       "1                    Normal                  56                     54   \n",
       "2                    Normal                  54                     54   \n",
       "3                    Little                  70                     70   \n",
       "4                    Little                  52                     53   \n",
       "\n",
       "   chanceCreationCrossing  chanceCreationShooting  defencePressure  \\\n",
       "0                      65                      55               50   \n",
       "1                      63                      64               47   \n",
       "2                      63                      64               47   \n",
       "3                      70                      70               60   \n",
       "4                      48                      52               47   \n",
       "\n",
       "   defenceAggression  defenceTeamWidth  \n",
       "0                 55                45  \n",
       "1                 44                54  \n",
       "2                 44                54  \n",
       "3                 70                70  \n",
       "4                 47                52  "
      ]
     },
     "execution_count": 6,
     "metadata": {},
     "output_type": "execute_result"
    }
   ],
   "source": [
    "# This query gets the Team table joined with the Team_Attributes table\n",
    "teams_query=\"\"\" SELECT DISTINCT T.team_long_name team,\n",
    "                                TA.date date,\n",
    "                                TA.buildUpPlaySpeed,\n",
    "                                TA.buildUpPlayDribbling,\n",
    "                                TA.buildUpPlayDribblingClass,\n",
    "                                TA.buildUpPlayPassing,\n",
    "                                TA.chanceCreationPassing,\n",
    "                                TA.chanceCreationCrossing,\n",
    "                                TA.chanceCreationShooting,\n",
    "                                TA.defencePressure,\n",
    "                                TA.defenceAggression,\n",
    "                                TA.defenceTeamWidth\n",
    "                from Team T\n",
    "                   join Team_Attributes TA on TA.team_api_id = T.team_api_id\n",
    "                \"\"\"\n",
    "\n",
    "df_team = pd.read_sql_query(teams_query, con)\n",
    "df_team.head()"
   ]
  },
  {
   "cell_type": "code",
   "execution_count": 7,
   "metadata": {},
   "outputs": [],
   "source": [
    "# Closing the database connection\n",
    "con.close()"
   ]
  },
  {
   "cell_type": "markdown",
   "metadata": {},
   "source": [
    "### Data Cleaning (Replacing the missing values)"
   ]
  },
  {
   "cell_type": "code",
   "execution_count": 8,
   "metadata": {},
   "outputs": [
    {
     "name": "stdout",
     "output_type": "stream",
     "text": [
      "<class 'pandas.core.frame.DataFrame'>\n",
      "RangeIndex: 25979 entries, 0 to 25978\n",
      "Data columns (total 10 columns):\n",
      " #   Column          Non-Null Count  Dtype \n",
      "---  ------          --------------  ----- \n",
      " 0   id              25979 non-null  int64 \n",
      " 1   country_name    25979 non-null  object\n",
      " 2   league_name     25979 non-null  object\n",
      " 3   season          25979 non-null  object\n",
      " 4   stage           25979 non-null  int64 \n",
      " 5   date            25979 non-null  object\n",
      " 6   home_team       25979 non-null  object\n",
      " 7   away_team       25979 non-null  object\n",
      " 8   home_team_goal  25979 non-null  int64 \n",
      " 9   away_team_goal  25979 non-null  int64 \n",
      "dtypes: int64(4), object(6)\n",
      "memory usage: 2.0+ MB\n"
     ]
    }
   ],
   "source": [
    "df_match.info()"
   ]
  },
  {
   "cell_type": "code",
   "execution_count": 9,
   "metadata": {},
   "outputs": [
    {
     "name": "stdout",
     "output_type": "stream",
     "text": [
      "<class 'pandas.core.frame.DataFrame'>\n",
      "RangeIndex: 1450 entries, 0 to 1449\n",
      "Data columns (total 12 columns):\n",
      " #   Column                     Non-Null Count  Dtype  \n",
      "---  ------                     --------------  -----  \n",
      " 0   team                       1450 non-null   object \n",
      " 1   date                       1450 non-null   object \n",
      " 2   buildUpPlaySpeed           1450 non-null   int64  \n",
      " 3   buildUpPlayDribbling       486 non-null    float64\n",
      " 4   buildUpPlayDribblingClass  1450 non-null   object \n",
      " 5   buildUpPlayPassing         1450 non-null   int64  \n",
      " 6   chanceCreationPassing      1450 non-null   int64  \n",
      " 7   chanceCreationCrossing     1450 non-null   int64  \n",
      " 8   chanceCreationShooting     1450 non-null   int64  \n",
      " 9   defencePressure            1450 non-null   int64  \n",
      " 10  defenceAggression          1450 non-null   int64  \n",
      " 11  defenceTeamWidth           1450 non-null   int64  \n",
      "dtypes: float64(1), int64(8), object(3)\n",
      "memory usage: 136.1+ KB\n"
     ]
    }
   ],
   "source": [
    "df_team.info()"
   ]
  },
  {
   "cell_type": "code",
   "execution_count": 10,
   "metadata": {},
   "outputs": [
    {
     "data": {
      "text/html": [
       "<div>\n",
       "<style scoped>\n",
       "    .dataframe tbody tr th:only-of-type {\n",
       "        vertical-align: middle;\n",
       "    }\n",
       "\n",
       "    .dataframe tbody tr th {\n",
       "        vertical-align: top;\n",
       "    }\n",
       "\n",
       "    .dataframe thead th {\n",
       "        text-align: right;\n",
       "    }\n",
       "</style>\n",
       "<table border=\"1\" class=\"dataframe\">\n",
       "  <thead>\n",
       "    <tr style=\"text-align: right;\">\n",
       "      <th></th>\n",
       "      <th>team</th>\n",
       "      <th>date</th>\n",
       "      <th>buildUpPlaySpeed</th>\n",
       "      <th>buildUpPlayDribbling</th>\n",
       "      <th>buildUpPlayDribblingClass</th>\n",
       "      <th>buildUpPlayPassing</th>\n",
       "      <th>chanceCreationPassing</th>\n",
       "      <th>chanceCreationCrossing</th>\n",
       "      <th>chanceCreationShooting</th>\n",
       "      <th>defencePressure</th>\n",
       "      <th>defenceAggression</th>\n",
       "      <th>defenceTeamWidth</th>\n",
       "    </tr>\n",
       "  </thead>\n",
       "  <tbody>\n",
       "    <tr>\n",
       "      <th>0</th>\n",
       "      <td>FC Aarau</td>\n",
       "      <td>2010-02-22 00:00:00</td>\n",
       "      <td>60</td>\n",
       "      <td>NaN</td>\n",
       "      <td>Little</td>\n",
       "      <td>50</td>\n",
       "      <td>60</td>\n",
       "      <td>65</td>\n",
       "      <td>55</td>\n",
       "      <td>50</td>\n",
       "      <td>55</td>\n",
       "      <td>45</td>\n",
       "    </tr>\n",
       "    <tr>\n",
       "      <th>1</th>\n",
       "      <td>FC Aarau</td>\n",
       "      <td>2014-09-19 00:00:00</td>\n",
       "      <td>52</td>\n",
       "      <td>48.0</td>\n",
       "      <td>Normal</td>\n",
       "      <td>56</td>\n",
       "      <td>54</td>\n",
       "      <td>63</td>\n",
       "      <td>64</td>\n",
       "      <td>47</td>\n",
       "      <td>44</td>\n",
       "      <td>54</td>\n",
       "    </tr>\n",
       "    <tr>\n",
       "      <th>2</th>\n",
       "      <td>FC Aarau</td>\n",
       "      <td>2015-09-10 00:00:00</td>\n",
       "      <td>47</td>\n",
       "      <td>41.0</td>\n",
       "      <td>Normal</td>\n",
       "      <td>54</td>\n",
       "      <td>54</td>\n",
       "      <td>63</td>\n",
       "      <td>64</td>\n",
       "      <td>47</td>\n",
       "      <td>44</td>\n",
       "      <td>54</td>\n",
       "    </tr>\n",
       "    <tr>\n",
       "      <th>3</th>\n",
       "      <td>Aberdeen</td>\n",
       "      <td>2010-02-22 00:00:00</td>\n",
       "      <td>70</td>\n",
       "      <td>NaN</td>\n",
       "      <td>Little</td>\n",
       "      <td>70</td>\n",
       "      <td>70</td>\n",
       "      <td>70</td>\n",
       "      <td>70</td>\n",
       "      <td>60</td>\n",
       "      <td>70</td>\n",
       "      <td>70</td>\n",
       "    </tr>\n",
       "    <tr>\n",
       "      <th>4</th>\n",
       "      <td>Aberdeen</td>\n",
       "      <td>2011-02-22 00:00:00</td>\n",
       "      <td>47</td>\n",
       "      <td>NaN</td>\n",
       "      <td>Little</td>\n",
       "      <td>52</td>\n",
       "      <td>53</td>\n",
       "      <td>48</td>\n",
       "      <td>52</td>\n",
       "      <td>47</td>\n",
       "      <td>47</td>\n",
       "      <td>52</td>\n",
       "    </tr>\n",
       "  </tbody>\n",
       "</table>\n",
       "</div>"
      ],
      "text/plain": [
       "       team                 date  buildUpPlaySpeed  buildUpPlayDribbling  \\\n",
       "0  FC Aarau  2010-02-22 00:00:00                60                   NaN   \n",
       "1  FC Aarau  2014-09-19 00:00:00                52                  48.0   \n",
       "2  FC Aarau  2015-09-10 00:00:00                47                  41.0   \n",
       "3  Aberdeen  2010-02-22 00:00:00                70                   NaN   \n",
       "4  Aberdeen  2011-02-22 00:00:00                47                   NaN   \n",
       "\n",
       "  buildUpPlayDribblingClass  buildUpPlayPassing  chanceCreationPassing  \\\n",
       "0                    Little                  50                     60   \n",
       "1                    Normal                  56                     54   \n",
       "2                    Normal                  54                     54   \n",
       "3                    Little                  70                     70   \n",
       "4                    Little                  52                     53   \n",
       "\n",
       "   chanceCreationCrossing  chanceCreationShooting  defencePressure  \\\n",
       "0                      65                      55               50   \n",
       "1                      63                      64               47   \n",
       "2                      63                      64               47   \n",
       "3                      70                      70               60   \n",
       "4                      48                      52               47   \n",
       "\n",
       "   defenceAggression  defenceTeamWidth  \n",
       "0                 55                45  \n",
       "1                 44                54  \n",
       "2                 44                54  \n",
       "3                 70                70  \n",
       "4                 47                52  "
      ]
     },
     "execution_count": 10,
     "metadata": {},
     "output_type": "execute_result"
    }
   ],
   "source": [
    "df_team.head()"
   ]
  },
  {
   "cell_type": "code",
   "execution_count": 11,
   "metadata": {},
   "outputs": [
    {
     "data": {
      "text/plain": [
       "array(['Little', 'Normal', 'Lots'], dtype=object)"
      ]
     },
     "execution_count": 11,
     "metadata": {},
     "output_type": "execute_result"
    }
   ],
   "source": [
    "# getting the unique values in the buildUpPlayDribblingClass Column\n",
    "df_team.buildUpPlayDribblingClass.unique()"
   ]
  },
  {
   "cell_type": "code",
   "execution_count": 12,
   "metadata": {},
   "outputs": [
    {
     "data": {
      "text/plain": [
       "964"
      ]
     },
     "execution_count": 12,
     "metadata": {},
     "output_type": "execute_result"
    }
   ],
   "source": [
    "# calculating how many missing values in the buildUpPlayDribbling Column \n",
    "# if the value of the buildUpPlayDribblingClass is equal to 'Little'\n",
    "t = df_team[df_team.buildUpPlayDribblingClass == 'Little']\n",
    "t.buildUpPlayDribbling.isnull().sum()"
   ]
  },
  {
   "cell_type": "markdown",
   "metadata": {},
   "source": [
    "> From above, we can infer that all the null values in the buildUpDribbling column are associated with the buildUpPlayDribblingClass to have a value of Little.\n",
    "\n",
    "> One possible solution is to replace the missing values with the mean of buildUpDribbling column where the buildUpPlayDribblingClass equals Little."
   ]
  },
  {
   "cell_type": "code",
   "execution_count": 13,
   "metadata": {},
   "outputs": [
    {
     "data": {
      "image/png": "[encoded data removed]",
      "text/plain": [
       "<Figure size 432x288 with 1 Axes>"
      ]
     },
     "metadata": {
      "needs_background": "light"
     },
     "output_type": "display_data"
    }
   ],
   "source": [
    "plt.hist(df_team.buildUpPlayDribbling)\n",
    "plt.title('Build Up Play Dribbling Histogram before replacing missing values')\n",
    "plt.xlabel('Value')\n",
    "plt.ylabel('Count');"
   ]
  },
  {
   "cell_type": "code",
   "execution_count": 14,
   "metadata": {},
   "outputs": [
    {
     "name": "stdout",
     "output_type": "stream",
     "text": [
      "30.485714285714284\n"
     ]
    }
   ],
   "source": [
    "# replacing the missing values with the mean of buildUpDribbling column \n",
    "# where the buildUpPlayDribblingClass equals Little.\n",
    "min_val = df_team.query('buildUpPlayDribblingClass == \"Little\"').buildUpPlayDribbling.mean()\n",
    "print(min_val)\n",
    "df_team.buildUpPlayDribbling.fillna(min_val, inplace=True)"
   ]
  },
  {
   "cell_type": "code",
   "execution_count": 15,
   "metadata": {},
   "outputs": [
    {
     "data": {
      "image/png": "[encoded data removed]",
      "text/plain": [
       "<Figure size 432x288 with 1 Axes>"
      ]
     },
     "metadata": {
      "needs_background": "light"
     },
     "output_type": "display_data"
    }
   ],
   "source": [
    "plt.hist(df_team.buildUpPlayDribbling);\n",
    "plt.title('Build Up Play Dribbling Histogram after replacing missing values')\n",
    "plt.xlabel('Value')\n",
    "plt.ylabel('Count');"
   ]
  },
  {
   "cell_type": "markdown",
   "metadata": {},
   "source": [
    "> From the two histograms above, we can see that the distribution of the buildUpPlayDribbiling column is no longer a normal distribution after replacing the missing values and this can be consider as a limitation."
   ]
  },
  {
   "cell_type": "markdown",
   "metadata": {},
   "source": [
    "<a id='eda'></a>\n",
    "## Exploratory Data Analysis\n",
    "\n",
    "### Research Question 1: What teams improved the most over the time period?"
   ]
  },
  {
   "cell_type": "markdown",
   "metadata": {},
   "source": [
    "> My approach is to get the difference between the oldest measure of the team attributes and the latest one as a measure of improvement over this period. "
   ]
  },
  {
   "cell_type": "code",
   "execution_count": 16,
   "metadata": {},
   "outputs": [
    {
     "data": {
      "text/plain": [
       "(285, 12)"
      ]
     },
     "execution_count": 16,
     "metadata": {},
     "output_type": "execute_result"
    }
   ],
   "source": [
    "df_team_latest = df_team.sort_values(by='date', ascending=False).drop_duplicates(subset=['team'])\n",
    "df_team_latest.shape"
   ]
  },
  {
   "cell_type": "code",
   "execution_count": 17,
   "metadata": {},
   "outputs": [
    {
     "data": {
      "text/html": [
       "<div>\n",
       "<style scoped>\n",
       "    .dataframe tbody tr th:only-of-type {\n",
       "        vertical-align: middle;\n",
       "    }\n",
       "\n",
       "    .dataframe tbody tr th {\n",
       "        vertical-align: top;\n",
       "    }\n",
       "\n",
       "    .dataframe thead th {\n",
       "        text-align: right;\n",
       "    }\n",
       "</style>\n",
       "<table border=\"1\" class=\"dataframe\">\n",
       "  <thead>\n",
       "    <tr style=\"text-align: right;\">\n",
       "      <th></th>\n",
       "      <th>team</th>\n",
       "      <th>date</th>\n",
       "      <th>buildUpPlaySpeed</th>\n",
       "      <th>buildUpPlayDribbling</th>\n",
       "      <th>buildUpPlayDribblingClass</th>\n",
       "      <th>buildUpPlayPassing</th>\n",
       "      <th>chanceCreationPassing</th>\n",
       "      <th>chanceCreationCrossing</th>\n",
       "      <th>chanceCreationShooting</th>\n",
       "      <th>defencePressure</th>\n",
       "      <th>defenceAggression</th>\n",
       "      <th>defenceTeamWidth</th>\n",
       "    </tr>\n",
       "  </thead>\n",
       "  <tbody>\n",
       "    <tr>\n",
       "      <th>0</th>\n",
       "      <td>1. FC Kaiserslautern</td>\n",
       "      <td>2015-09-10 00:00:00</td>\n",
       "      <td>49</td>\n",
       "      <td>54.0</td>\n",
       "      <td>Normal</td>\n",
       "      <td>52</td>\n",
       "      <td>49</td>\n",
       "      <td>54</td>\n",
       "      <td>64</td>\n",
       "      <td>41</td>\n",
       "      <td>51</td>\n",
       "      <td>53</td>\n",
       "    </tr>\n",
       "    <tr>\n",
       "      <th>1</th>\n",
       "      <td>1. FC Köln</td>\n",
       "      <td>2015-09-10 00:00:00</td>\n",
       "      <td>59</td>\n",
       "      <td>47.0</td>\n",
       "      <td>Normal</td>\n",
       "      <td>65</td>\n",
       "      <td>57</td>\n",
       "      <td>36</td>\n",
       "      <td>71</td>\n",
       "      <td>42</td>\n",
       "      <td>56</td>\n",
       "      <td>51</td>\n",
       "    </tr>\n",
       "    <tr>\n",
       "      <th>2</th>\n",
       "      <td>1. FC Nürnberg</td>\n",
       "      <td>2015-09-10 00:00:00</td>\n",
       "      <td>46</td>\n",
       "      <td>58.0</td>\n",
       "      <td>Normal</td>\n",
       "      <td>49</td>\n",
       "      <td>51</td>\n",
       "      <td>52</td>\n",
       "      <td>59</td>\n",
       "      <td>30</td>\n",
       "      <td>40</td>\n",
       "      <td>44</td>\n",
       "    </tr>\n",
       "    <tr>\n",
       "      <th>3</th>\n",
       "      <td>1. FSV Mainz 05</td>\n",
       "      <td>2015-09-10 00:00:00</td>\n",
       "      <td>60</td>\n",
       "      <td>43.0</td>\n",
       "      <td>Normal</td>\n",
       "      <td>53</td>\n",
       "      <td>49</td>\n",
       "      <td>40</td>\n",
       "      <td>44</td>\n",
       "      <td>55</td>\n",
       "      <td>62</td>\n",
       "      <td>47</td>\n",
       "    </tr>\n",
       "    <tr>\n",
       "      <th>4</th>\n",
       "      <td>AC Ajaccio</td>\n",
       "      <td>2015-09-10 00:00:00</td>\n",
       "      <td>59</td>\n",
       "      <td>57.0</td>\n",
       "      <td>Normal</td>\n",
       "      <td>52</td>\n",
       "      <td>48</td>\n",
       "      <td>38</td>\n",
       "      <td>52</td>\n",
       "      <td>38</td>\n",
       "      <td>47</td>\n",
       "      <td>53</td>\n",
       "    </tr>\n",
       "  </tbody>\n",
       "</table>\n",
       "</div>"
      ],
      "text/plain": [
       "                   team                 date  buildUpPlaySpeed  \\\n",
       "0  1. FC Kaiserslautern  2015-09-10 00:00:00                49   \n",
       "1            1. FC Köln  2015-09-10 00:00:00                59   \n",
       "2        1. FC Nürnberg  2015-09-10 00:00:00                46   \n",
       "3       1. FSV Mainz 05  2015-09-10 00:00:00                60   \n",
       "4            AC Ajaccio  2015-09-10 00:00:00                59   \n",
       "\n",
       "   buildUpPlayDribbling buildUpPlayDribblingClass  buildUpPlayPassing  \\\n",
       "0                  54.0                    Normal                  52   \n",
       "1                  47.0                    Normal                  65   \n",
       "2                  58.0                    Normal                  49   \n",
       "3                  43.0                    Normal                  53   \n",
       "4                  57.0                    Normal                  52   \n",
       "\n",
       "   chanceCreationPassing  chanceCreationCrossing  chanceCreationShooting  \\\n",
       "0                     49                      54                      64   \n",
       "1                     57                      36                      71   \n",
       "2                     51                      52                      59   \n",
       "3                     49                      40                      44   \n",
       "4                     48                      38                      52   \n",
       "\n",
       "   defencePressure  defenceAggression  defenceTeamWidth  \n",
       "0               41                 51                53  \n",
       "1               42                 56                51  \n",
       "2               30                 40                44  \n",
       "3               55                 62                47  \n",
       "4               38                 47                53  "
      ]
     },
     "execution_count": 17,
     "metadata": {},
     "output_type": "execute_result"
    }
   ],
   "source": [
    "df_team_latest.sort_values(by='team', inplace=True)\n",
    "df_team_latest.reset_index(drop=True, inplace= True)\n",
    "df_team_latest.head()"
   ]
  },
  {
   "cell_type": "code",
   "execution_count": 18,
   "metadata": {},
   "outputs": [
    {
     "data": {
      "text/plain": [
       "(285, 12)"
      ]
     },
     "execution_count": 18,
     "metadata": {},
     "output_type": "execute_result"
    }
   ],
   "source": [
    "df_team_oldest = df_team.sort_values(by='date', ascending=True).drop_duplicates(subset=['team'])\n",
    "df_team_latest.shape"
   ]
  },
  {
   "cell_type": "code",
   "execution_count": 19,
   "metadata": {},
   "outputs": [
    {
     "data": {
      "text/html": [
       "<div>\n",
       "<style scoped>\n",
       "    .dataframe tbody tr th:only-of-type {\n",
       "        vertical-align: middle;\n",
       "    }\n",
       "\n",
       "    .dataframe tbody tr th {\n",
       "        vertical-align: top;\n",
       "    }\n",
       "\n",
       "    .dataframe thead th {\n",
       "        text-align: right;\n",
       "    }\n",
       "</style>\n",
       "<table border=\"1\" class=\"dataframe\">\n",
       "  <thead>\n",
       "    <tr style=\"text-align: right;\">\n",
       "      <th></th>\n",
       "      <th>team</th>\n",
       "      <th>date</th>\n",
       "      <th>buildUpPlaySpeed</th>\n",
       "      <th>buildUpPlayDribbling</th>\n",
       "      <th>buildUpPlayDribblingClass</th>\n",
       "      <th>buildUpPlayPassing</th>\n",
       "      <th>chanceCreationPassing</th>\n",
       "      <th>chanceCreationCrossing</th>\n",
       "      <th>chanceCreationShooting</th>\n",
       "      <th>defencePressure</th>\n",
       "      <th>defenceAggression</th>\n",
       "      <th>defenceTeamWidth</th>\n",
       "    </tr>\n",
       "  </thead>\n",
       "  <tbody>\n",
       "    <tr>\n",
       "      <th>0</th>\n",
       "      <td>1. FC Kaiserslautern</td>\n",
       "      <td>2010-02-22 00:00:00</td>\n",
       "      <td>45</td>\n",
       "      <td>30.485714</td>\n",
       "      <td>Little</td>\n",
       "      <td>55</td>\n",
       "      <td>45</td>\n",
       "      <td>70</td>\n",
       "      <td>70</td>\n",
       "      <td>70</td>\n",
       "      <td>70</td>\n",
       "      <td>70</td>\n",
       "    </tr>\n",
       "    <tr>\n",
       "      <th>1</th>\n",
       "      <td>1. FC Köln</td>\n",
       "      <td>2010-02-22 00:00:00</td>\n",
       "      <td>55</td>\n",
       "      <td>30.485714</td>\n",
       "      <td>Little</td>\n",
       "      <td>65</td>\n",
       "      <td>65</td>\n",
       "      <td>40</td>\n",
       "      <td>60</td>\n",
       "      <td>45</td>\n",
       "      <td>55</td>\n",
       "      <td>70</td>\n",
       "    </tr>\n",
       "    <tr>\n",
       "      <th>2</th>\n",
       "      <td>1. FC Nürnberg</td>\n",
       "      <td>2010-02-22 00:00:00</td>\n",
       "      <td>45</td>\n",
       "      <td>30.485714</td>\n",
       "      <td>Little</td>\n",
       "      <td>50</td>\n",
       "      <td>40</td>\n",
       "      <td>70</td>\n",
       "      <td>70</td>\n",
       "      <td>55</td>\n",
       "      <td>55</td>\n",
       "      <td>40</td>\n",
       "    </tr>\n",
       "    <tr>\n",
       "      <th>3</th>\n",
       "      <td>1. FSV Mainz 05</td>\n",
       "      <td>2010-02-22 00:00:00</td>\n",
       "      <td>45</td>\n",
       "      <td>30.485714</td>\n",
       "      <td>Little</td>\n",
       "      <td>40</td>\n",
       "      <td>45</td>\n",
       "      <td>70</td>\n",
       "      <td>70</td>\n",
       "      <td>50</td>\n",
       "      <td>70</td>\n",
       "      <td>50</td>\n",
       "    </tr>\n",
       "    <tr>\n",
       "      <th>4</th>\n",
       "      <td>AC Ajaccio</td>\n",
       "      <td>2010-02-22 00:00:00</td>\n",
       "      <td>60</td>\n",
       "      <td>30.485714</td>\n",
       "      <td>Little</td>\n",
       "      <td>40</td>\n",
       "      <td>45</td>\n",
       "      <td>35</td>\n",
       "      <td>55</td>\n",
       "      <td>30</td>\n",
       "      <td>70</td>\n",
       "      <td>30</td>\n",
       "    </tr>\n",
       "  </tbody>\n",
       "</table>\n",
       "</div>"
      ],
      "text/plain": [
       "                   team                 date  buildUpPlaySpeed  \\\n",
       "0  1. FC Kaiserslautern  2010-02-22 00:00:00                45   \n",
       "1            1. FC Köln  2010-02-22 00:00:00                55   \n",
       "2        1. FC Nürnberg  2010-02-22 00:00:00                45   \n",
       "3       1. FSV Mainz 05  2010-02-22 00:00:00                45   \n",
       "4            AC Ajaccio  2010-02-22 00:00:00                60   \n",
       "\n",
       "   buildUpPlayDribbling buildUpPlayDribblingClass  buildUpPlayPassing  \\\n",
       "0             30.485714                    Little                  55   \n",
       "1             30.485714                    Little                  65   \n",
       "2             30.485714                    Little                  50   \n",
       "3             30.485714                    Little                  40   \n",
       "4             30.485714                    Little                  40   \n",
       "\n",
       "   chanceCreationPassing  chanceCreationCrossing  chanceCreationShooting  \\\n",
       "0                     45                      70                      70   \n",
       "1                     65                      40                      60   \n",
       "2                     40                      70                      70   \n",
       "3                     45                      70                      70   \n",
       "4                     45                      35                      55   \n",
       "\n",
       "   defencePressure  defenceAggression  defenceTeamWidth  \n",
       "0               70                 70                70  \n",
       "1               45                 55                70  \n",
       "2               55                 55                40  \n",
       "3               50                 70                50  \n",
       "4               30                 70                30  "
      ]
     },
     "execution_count": 19,
     "metadata": {},
     "output_type": "execute_result"
    }
   ],
   "source": [
    "df_team_oldest.sort_values(by='team', inplace=True)\n",
    "df_team_oldest.reset_index(drop=True, inplace=True)\n",
    "df_team_oldest.head()"
   ]
  },
  {
   "cell_type": "code",
   "execution_count": 20,
   "metadata": {},
   "outputs": [],
   "source": [
    "columns = ['buildUpPlaySpeed', 'buildUpPlayDribbling',\n",
    "       'buildUpPlayPassing', 'chanceCreationPassing', 'chanceCreationCrossing',\n",
    "       'chanceCreationShooting', 'defencePressure', 'defenceAggression',\n",
    "       'defenceTeamWidth']"
   ]
  },
  {
   "cell_type": "code",
   "execution_count": 21,
   "metadata": {},
   "outputs": [],
   "source": [
    "df_improvement = df_team_latest.copy()"
   ]
  },
  {
   "cell_type": "code",
   "execution_count": 22,
   "metadata": {},
   "outputs": [
    {
     "data": {
      "text/html": [
       "<div>\n",
       "<style scoped>\n",
       "    .dataframe tbody tr th:only-of-type {\n",
       "        vertical-align: middle;\n",
       "    }\n",
       "\n",
       "    .dataframe tbody tr th {\n",
       "        vertical-align: top;\n",
       "    }\n",
       "\n",
       "    .dataframe thead th {\n",
       "        text-align: right;\n",
       "    }\n",
       "</style>\n",
       "<table border=\"1\" class=\"dataframe\">\n",
       "  <thead>\n",
       "    <tr style=\"text-align: right;\">\n",
       "      <th></th>\n",
       "      <th>team</th>\n",
       "      <th>date</th>\n",
       "      <th>buildUpPlaySpeed</th>\n",
       "      <th>buildUpPlayDribbling</th>\n",
       "      <th>buildUpPlayDribblingClass</th>\n",
       "      <th>buildUpPlayPassing</th>\n",
       "      <th>chanceCreationPassing</th>\n",
       "      <th>chanceCreationCrossing</th>\n",
       "      <th>chanceCreationShooting</th>\n",
       "      <th>defencePressure</th>\n",
       "      <th>defenceAggression</th>\n",
       "      <th>defenceTeamWidth</th>\n",
       "    </tr>\n",
       "  </thead>\n",
       "  <tbody>\n",
       "    <tr>\n",
       "      <th>0</th>\n",
       "      <td>1. FC Kaiserslautern</td>\n",
       "      <td>2015-09-10 00:00:00</td>\n",
       "      <td>4</td>\n",
       "      <td>23.514286</td>\n",
       "      <td>Normal</td>\n",
       "      <td>-3</td>\n",
       "      <td>4</td>\n",
       "      <td>-16</td>\n",
       "      <td>-6</td>\n",
       "      <td>-29</td>\n",
       "      <td>-19</td>\n",
       "      <td>-17</td>\n",
       "    </tr>\n",
       "    <tr>\n",
       "      <th>1</th>\n",
       "      <td>1. FC Köln</td>\n",
       "      <td>2015-09-10 00:00:00</td>\n",
       "      <td>4</td>\n",
       "      <td>16.514286</td>\n",
       "      <td>Normal</td>\n",
       "      <td>0</td>\n",
       "      <td>-8</td>\n",
       "      <td>-4</td>\n",
       "      <td>11</td>\n",
       "      <td>-3</td>\n",
       "      <td>1</td>\n",
       "      <td>-19</td>\n",
       "    </tr>\n",
       "    <tr>\n",
       "      <th>2</th>\n",
       "      <td>1. FC Nürnberg</td>\n",
       "      <td>2015-09-10 00:00:00</td>\n",
       "      <td>1</td>\n",
       "      <td>27.514286</td>\n",
       "      <td>Normal</td>\n",
       "      <td>-1</td>\n",
       "      <td>11</td>\n",
       "      <td>-18</td>\n",
       "      <td>-11</td>\n",
       "      <td>-25</td>\n",
       "      <td>-15</td>\n",
       "      <td>4</td>\n",
       "    </tr>\n",
       "    <tr>\n",
       "      <th>3</th>\n",
       "      <td>1. FSV Mainz 05</td>\n",
       "      <td>2015-09-10 00:00:00</td>\n",
       "      <td>15</td>\n",
       "      <td>12.514286</td>\n",
       "      <td>Normal</td>\n",
       "      <td>13</td>\n",
       "      <td>4</td>\n",
       "      <td>-30</td>\n",
       "      <td>-26</td>\n",
       "      <td>5</td>\n",
       "      <td>-8</td>\n",
       "      <td>-3</td>\n",
       "    </tr>\n",
       "    <tr>\n",
       "      <th>4</th>\n",
       "      <td>AC Ajaccio</td>\n",
       "      <td>2015-09-10 00:00:00</td>\n",
       "      <td>-1</td>\n",
       "      <td>26.514286</td>\n",
       "      <td>Normal</td>\n",
       "      <td>12</td>\n",
       "      <td>3</td>\n",
       "      <td>3</td>\n",
       "      <td>-3</td>\n",
       "      <td>8</td>\n",
       "      <td>-23</td>\n",
       "      <td>23</td>\n",
       "    </tr>\n",
       "  </tbody>\n",
       "</table>\n",
       "</div>"
      ],
      "text/plain": [
       "                   team                 date  buildUpPlaySpeed  \\\n",
       "0  1. FC Kaiserslautern  2015-09-10 00:00:00                 4   \n",
       "1            1. FC Köln  2015-09-10 00:00:00                 4   \n",
       "2        1. FC Nürnberg  2015-09-10 00:00:00                 1   \n",
       "3       1. FSV Mainz 05  2015-09-10 00:00:00                15   \n",
       "4            AC Ajaccio  2015-09-10 00:00:00                -1   \n",
       "\n",
       "   buildUpPlayDribbling buildUpPlayDribblingClass  buildUpPlayPassing  \\\n",
       "0             23.514286                    Normal                  -3   \n",
       "1             16.514286                    Normal                   0   \n",
       "2             27.514286                    Normal                  -1   \n",
       "3             12.514286                    Normal                  13   \n",
       "4             26.514286                    Normal                  12   \n",
       "\n",
       "   chanceCreationPassing  chanceCreationCrossing  chanceCreationShooting  \\\n",
       "0                      4                     -16                      -6   \n",
       "1                     -8                      -4                      11   \n",
       "2                     11                     -18                     -11   \n",
       "3                      4                     -30                     -26   \n",
       "4                      3                       3                      -3   \n",
       "\n",
       "   defencePressure  defenceAggression  defenceTeamWidth  \n",
       "0              -29                -19               -17  \n",
       "1               -3                  1               -19  \n",
       "2              -25                -15                 4  \n",
       "3                5                 -8                -3  \n",
       "4                8                -23                23  "
      ]
     },
     "execution_count": 22,
     "metadata": {},
     "output_type": "execute_result"
    }
   ],
   "source": [
    "for col in columns:\n",
    "    df_improvement[col] = df_team_latest[col] - df_team_oldest[col]\n",
    "df_improvement.head()"
   ]
  },
  {
   "cell_type": "markdown",
   "metadata": {},
   "source": [
    "> The following histograms show the top five teams that improved the most in each of team attributes."
   ]
  },
  {
   "cell_type": "code",
   "execution_count": 23,
   "metadata": {},
   "outputs": [
    {
     "data": {
      "image/png": "[encoded data removed]",
      "text/plain": [
       "<Figure size 432x288 with 1 Axes>"
      ]
     },
     "metadata": {
      "needs_background": "light"
     },
     "output_type": "display_data"
    },
    {
     "data": {
      "image/png": "[encoded data removed]",
      "text/plain": [
       "<Figure size 432x288 with 1 Axes>"
      ]
     },
     "metadata": {
      "needs_background": "light"
     },
     "output_type": "display_data"
    },
    {
     "data": {
      "image/png": "[encoded data removed]",
      "text/plain": [
       "<Figure size 432x288 with 1 Axes>"
      ]
     },
     "metadata": {
      "needs_background": "light"
     },
     "output_type": "display_data"
    },
    {
     "data": {
      "image/png": "[encoded data removed]",
      "text/plain": [
       "<Figure size 432x288 with 1 Axes>"
      ]
     },
     "metadata": {
      "needs_background": "light"
     },
     "output_type": "display_data"
    },
    {
     "data": {
      "image/png": "[encoded data removed]",
      "text/plain": [
       "<Figure size 432x288 with 1 Axes>"
      ]
     },
     "metadata": {
      "needs_background": "light"
     },
     "output_type": "display_data"
    },
    {
     "data": {
      "image/png": "[encoded data removed]",
      "text/plain": [
       "<Figure size 432x288 with 1 Axes>"
      ]
     },
     "metadata": {
      "needs_background": "light"
     },
     "output_type": "display_data"
    },
    {
     "data": {
      "image/png": "[encoded data removed]",
      "text/plain": [
       "<Figure size 432x288 with 1 Axes>"
      ]
     },
     "metadata": {
      "needs_background": "light"
     },
     "output_type": "display_data"
    },
    {
     "data": {
      "image/png": "[encoded data removed]",
      "text/plain": [
       "<Figure size 432x288 with 1 Axes>"
      ]
     },
     "metadata": {
      "needs_background": "light"
     },
     "output_type": "display_data"
    },
    {
     "data": {
      "image/png": "[encoded data removed]",
      "text/plain": [
       "<Figure size 432x288 with 1 Axes>"
      ]
     },
     "metadata": {
      "needs_background": "light"
     },
     "output_type": "display_data"
    }
   ],
   "source": [
    "i = 1\n",
    "for col in columns:\n",
    "    df_top_5 = df_improvement.sort_values(by=col, ascending=False).head()\n",
    "    plt.figure(i)\n",
    "    plt.title(col)\n",
    "    plt.xticks(rotation='vertical')\n",
    "    i += 1\n",
    "    plt.bar(df_top_5['team'], df_top_5[col])\n",
    "    plt.xlabel('Team')\n",
    "    plt.ylabel('Rating')"
   ]
  },
  {
   "cell_type": "code",
   "execution_count": 24,
   "metadata": {},
   "outputs": [
    {
     "data": {
      "text/html": [
       "<div>\n",
       "<style scoped>\n",
       "    .dataframe tbody tr th:only-of-type {\n",
       "        vertical-align: middle;\n",
       "    }\n",
       "\n",
       "    .dataframe tbody tr th {\n",
       "        vertical-align: top;\n",
       "    }\n",
       "\n",
       "    .dataframe thead th {\n",
       "        text-align: right;\n",
       "    }\n",
       "</style>\n",
       "<table border=\"1\" class=\"dataframe\">\n",
       "  <thead>\n",
       "    <tr style=\"text-align: right;\">\n",
       "      <th></th>\n",
       "      <th>team</th>\n",
       "      <th>date</th>\n",
       "      <th>buildUpPlaySpeed</th>\n",
       "      <th>buildUpPlayDribbling</th>\n",
       "      <th>buildUpPlayDribblingClass</th>\n",
       "      <th>buildUpPlayPassing</th>\n",
       "      <th>chanceCreationPassing</th>\n",
       "      <th>chanceCreationCrossing</th>\n",
       "      <th>chanceCreationShooting</th>\n",
       "      <th>defencePressure</th>\n",
       "      <th>defenceAggression</th>\n",
       "      <th>defenceTeamWidth</th>\n",
       "      <th>total</th>\n",
       "    </tr>\n",
       "  </thead>\n",
       "  <tbody>\n",
       "    <tr>\n",
       "      <th>0</th>\n",
       "      <td>1. FC Kaiserslautern</td>\n",
       "      <td>2015-09-10 00:00:00</td>\n",
       "      <td>4</td>\n",
       "      <td>23.514286</td>\n",
       "      <td>Normal</td>\n",
       "      <td>-3</td>\n",
       "      <td>4</td>\n",
       "      <td>-16</td>\n",
       "      <td>-6</td>\n",
       "      <td>-29</td>\n",
       "      <td>-19</td>\n",
       "      <td>-17</td>\n",
       "      <td>-58.485714</td>\n",
       "    </tr>\n",
       "    <tr>\n",
       "      <th>1</th>\n",
       "      <td>1. FC Köln</td>\n",
       "      <td>2015-09-10 00:00:00</td>\n",
       "      <td>4</td>\n",
       "      <td>16.514286</td>\n",
       "      <td>Normal</td>\n",
       "      <td>0</td>\n",
       "      <td>-8</td>\n",
       "      <td>-4</td>\n",
       "      <td>11</td>\n",
       "      <td>-3</td>\n",
       "      <td>1</td>\n",
       "      <td>-19</td>\n",
       "      <td>-1.485714</td>\n",
       "    </tr>\n",
       "    <tr>\n",
       "      <th>2</th>\n",
       "      <td>1. FC Nürnberg</td>\n",
       "      <td>2015-09-10 00:00:00</td>\n",
       "      <td>1</td>\n",
       "      <td>27.514286</td>\n",
       "      <td>Normal</td>\n",
       "      <td>-1</td>\n",
       "      <td>11</td>\n",
       "      <td>-18</td>\n",
       "      <td>-11</td>\n",
       "      <td>-25</td>\n",
       "      <td>-15</td>\n",
       "      <td>4</td>\n",
       "      <td>-26.485714</td>\n",
       "    </tr>\n",
       "    <tr>\n",
       "      <th>3</th>\n",
       "      <td>1. FSV Mainz 05</td>\n",
       "      <td>2015-09-10 00:00:00</td>\n",
       "      <td>15</td>\n",
       "      <td>12.514286</td>\n",
       "      <td>Normal</td>\n",
       "      <td>13</td>\n",
       "      <td>4</td>\n",
       "      <td>-30</td>\n",
       "      <td>-26</td>\n",
       "      <td>5</td>\n",
       "      <td>-8</td>\n",
       "      <td>-3</td>\n",
       "      <td>-17.485714</td>\n",
       "    </tr>\n",
       "    <tr>\n",
       "      <th>4</th>\n",
       "      <td>AC Ajaccio</td>\n",
       "      <td>2015-09-10 00:00:00</td>\n",
       "      <td>-1</td>\n",
       "      <td>26.514286</td>\n",
       "      <td>Normal</td>\n",
       "      <td>12</td>\n",
       "      <td>3</td>\n",
       "      <td>3</td>\n",
       "      <td>-3</td>\n",
       "      <td>8</td>\n",
       "      <td>-23</td>\n",
       "      <td>23</td>\n",
       "      <td>48.514286</td>\n",
       "    </tr>\n",
       "  </tbody>\n",
       "</table>\n",
       "</div>"
      ],
      "text/plain": [
       "                   team                 date  buildUpPlaySpeed  \\\n",
       "0  1. FC Kaiserslautern  2015-09-10 00:00:00                 4   \n",
       "1            1. FC Köln  2015-09-10 00:00:00                 4   \n",
       "2        1. FC Nürnberg  2015-09-10 00:00:00                 1   \n",
       "3       1. FSV Mainz 05  2015-09-10 00:00:00                15   \n",
       "4            AC Ajaccio  2015-09-10 00:00:00                -1   \n",
       "\n",
       "   buildUpPlayDribbling buildUpPlayDribblingClass  buildUpPlayPassing  \\\n",
       "0             23.514286                    Normal                  -3   \n",
       "1             16.514286                    Normal                   0   \n",
       "2             27.514286                    Normal                  -1   \n",
       "3             12.514286                    Normal                  13   \n",
       "4             26.514286                    Normal                  12   \n",
       "\n",
       "   chanceCreationPassing  chanceCreationCrossing  chanceCreationShooting  \\\n",
       "0                      4                     -16                      -6   \n",
       "1                     -8                      -4                      11   \n",
       "2                     11                     -18                     -11   \n",
       "3                      4                     -30                     -26   \n",
       "4                      3                       3                      -3   \n",
       "\n",
       "   defencePressure  defenceAggression  defenceTeamWidth      total  \n",
       "0              -29                -19               -17 -58.485714  \n",
       "1               -3                  1               -19  -1.485714  \n",
       "2              -25                -15                 4 -26.485714  \n",
       "3                5                 -8                -3 -17.485714  \n",
       "4                8                -23                23  48.514286  "
      ]
     },
     "execution_count": 24,
     "metadata": {},
     "output_type": "execute_result"
    }
   ],
   "source": [
    "df_improvement['total'] = 0\n",
    "for col in columns:\n",
    "    df_improvement['total'] = df_improvement['total'] + df_improvement[col] \n",
    "df_improvement.head()"
   ]
  },
  {
   "cell_type": "code",
   "execution_count": 25,
   "metadata": {},
   "outputs": [
    {
     "data": {
      "image/png": "[encoded data removed]",
      "text/plain": [
       "<Figure size 432x288 with 1 Axes>"
      ]
     },
     "metadata": {
      "needs_background": "light"
     },
     "output_type": "display_data"
    }
   ],
   "source": [
    "df_top_5 = df_improvement.sort_values(by='total', ascending=False).head()\n",
    "plt.title('total improvement')\n",
    "sns.barplot(data= df_top_5, x= 'team', y='total');"
   ]
  },
  {
   "cell_type": "markdown",
   "metadata": {},
   "source": [
    "### Research Question 2: What is the best player in penalties?"
   ]
  },
  {
   "cell_type": "markdown",
   "metadata": {},
   "source": [
    "> From the above histogram, we can see that the team called **Emploli** is the team that improved the most in the net of the team attributes over the time period."
   ]
  },
  {
   "cell_type": "markdown",
   "metadata": {},
   "source": [
    "> My approach is simply to sort the rows of the table on the penalties attribute."
   ]
  },
  {
   "cell_type": "code",
   "execution_count": 26,
   "metadata": {},
   "outputs": [
    {
     "data": {
      "text/html": [
       "<div>\n",
       "<style scoped>\n",
       "    .dataframe tbody tr th:only-of-type {\n",
       "        vertical-align: middle;\n",
       "    }\n",
       "\n",
       "    .dataframe tbody tr th {\n",
       "        vertical-align: top;\n",
       "    }\n",
       "\n",
       "    .dataframe thead th {\n",
       "        text-align: right;\n",
       "    }\n",
       "</style>\n",
       "<table border=\"1\" class=\"dataframe\">\n",
       "  <thead>\n",
       "    <tr style=\"text-align: right;\">\n",
       "      <th></th>\n",
       "      <th>id</th>\n",
       "      <th>player_api_id</th>\n",
       "      <th>player_name</th>\n",
       "      <th>player_fifa_api_id</th>\n",
       "      <th>birthday</th>\n",
       "      <th>height</th>\n",
       "      <th>weight</th>\n",
       "      <th>id</th>\n",
       "      <th>player_fifa_api_id</th>\n",
       "      <th>player_api_id</th>\n",
       "      <th>...</th>\n",
       "      <th>vision</th>\n",
       "      <th>penalties</th>\n",
       "      <th>marking</th>\n",
       "      <th>standing_tackle</th>\n",
       "      <th>sliding_tackle</th>\n",
       "      <th>gk_diving</th>\n",
       "      <th>gk_handling</th>\n",
       "      <th>gk_kicking</th>\n",
       "      <th>gk_positioning</th>\n",
       "      <th>gk_reflexes</th>\n",
       "    </tr>\n",
       "  </thead>\n",
       "  <tbody>\n",
       "    <tr>\n",
       "      <th>0</th>\n",
       "      <td>1</td>\n",
       "      <td>505942</td>\n",
       "      <td>Aaron Appindangoye</td>\n",
       "      <td>218353</td>\n",
       "      <td>1992-02-29 00:00:00</td>\n",
       "      <td>182.88</td>\n",
       "      <td>187</td>\n",
       "      <td>1</td>\n",
       "      <td>218353</td>\n",
       "      <td>505942</td>\n",
       "      <td>...</td>\n",
       "      <td>54.0</td>\n",
       "      <td>48.0</td>\n",
       "      <td>65.0</td>\n",
       "      <td>69.0</td>\n",
       "      <td>69.0</td>\n",
       "      <td>6.0</td>\n",
       "      <td>11.0</td>\n",
       "      <td>10.0</td>\n",
       "      <td>8.0</td>\n",
       "      <td>8.0</td>\n",
       "    </tr>\n",
       "    <tr>\n",
       "      <th>1</th>\n",
       "      <td>1</td>\n",
       "      <td>505942</td>\n",
       "      <td>Aaron Appindangoye</td>\n",
       "      <td>218353</td>\n",
       "      <td>1992-02-29 00:00:00</td>\n",
       "      <td>182.88</td>\n",
       "      <td>187</td>\n",
       "      <td>2</td>\n",
       "      <td>218353</td>\n",
       "      <td>505942</td>\n",
       "      <td>...</td>\n",
       "      <td>54.0</td>\n",
       "      <td>48.0</td>\n",
       "      <td>65.0</td>\n",
       "      <td>69.0</td>\n",
       "      <td>69.0</td>\n",
       "      <td>6.0</td>\n",
       "      <td>11.0</td>\n",
       "      <td>10.0</td>\n",
       "      <td>8.0</td>\n",
       "      <td>8.0</td>\n",
       "    </tr>\n",
       "    <tr>\n",
       "      <th>2</th>\n",
       "      <td>1</td>\n",
       "      <td>505942</td>\n",
       "      <td>Aaron Appindangoye</td>\n",
       "      <td>218353</td>\n",
       "      <td>1992-02-29 00:00:00</td>\n",
       "      <td>182.88</td>\n",
       "      <td>187</td>\n",
       "      <td>3</td>\n",
       "      <td>218353</td>\n",
       "      <td>505942</td>\n",
       "      <td>...</td>\n",
       "      <td>54.0</td>\n",
       "      <td>48.0</td>\n",
       "      <td>65.0</td>\n",
       "      <td>66.0</td>\n",
       "      <td>69.0</td>\n",
       "      <td>6.0</td>\n",
       "      <td>11.0</td>\n",
       "      <td>10.0</td>\n",
       "      <td>8.0</td>\n",
       "      <td>8.0</td>\n",
       "    </tr>\n",
       "    <tr>\n",
       "      <th>3</th>\n",
       "      <td>1</td>\n",
       "      <td>505942</td>\n",
       "      <td>Aaron Appindangoye</td>\n",
       "      <td>218353</td>\n",
       "      <td>1992-02-29 00:00:00</td>\n",
       "      <td>182.88</td>\n",
       "      <td>187</td>\n",
       "      <td>4</td>\n",
       "      <td>218353</td>\n",
       "      <td>505942</td>\n",
       "      <td>...</td>\n",
       "      <td>53.0</td>\n",
       "      <td>47.0</td>\n",
       "      <td>62.0</td>\n",
       "      <td>63.0</td>\n",
       "      <td>66.0</td>\n",
       "      <td>5.0</td>\n",
       "      <td>10.0</td>\n",
       "      <td>9.0</td>\n",
       "      <td>7.0</td>\n",
       "      <td>7.0</td>\n",
       "    </tr>\n",
       "    <tr>\n",
       "      <th>4</th>\n",
       "      <td>1</td>\n",
       "      <td>505942</td>\n",
       "      <td>Aaron Appindangoye</td>\n",
       "      <td>218353</td>\n",
       "      <td>1992-02-29 00:00:00</td>\n",
       "      <td>182.88</td>\n",
       "      <td>187</td>\n",
       "      <td>5</td>\n",
       "      <td>218353</td>\n",
       "      <td>505942</td>\n",
       "      <td>...</td>\n",
       "      <td>53.0</td>\n",
       "      <td>47.0</td>\n",
       "      <td>62.0</td>\n",
       "      <td>63.0</td>\n",
       "      <td>66.0</td>\n",
       "      <td>5.0</td>\n",
       "      <td>10.0</td>\n",
       "      <td>9.0</td>\n",
       "      <td>7.0</td>\n",
       "      <td>7.0</td>\n",
       "    </tr>\n",
       "  </tbody>\n",
       "</table>\n",
       "<p>5 rows × 49 columns</p>\n",
       "</div>"
      ],
      "text/plain": [
       "   id  player_api_id         player_name  player_fifa_api_id  \\\n",
       "0   1         505942  Aaron Appindangoye              218353   \n",
       "1   1         505942  Aaron Appindangoye              218353   \n",
       "2   1         505942  Aaron Appindangoye              218353   \n",
       "3   1         505942  Aaron Appindangoye              218353   \n",
       "4   1         505942  Aaron Appindangoye              218353   \n",
       "\n",
       "              birthday  height  weight  id  player_fifa_api_id  player_api_id  \\\n",
       "0  1992-02-29 00:00:00  182.88     187   1              218353         505942   \n",
       "1  1992-02-29 00:00:00  182.88     187   2              218353         505942   \n",
       "2  1992-02-29 00:00:00  182.88     187   3              218353         505942   \n",
       "3  1992-02-29 00:00:00  182.88     187   4              218353         505942   \n",
       "4  1992-02-29 00:00:00  182.88     187   5              218353         505942   \n",
       "\n",
       "   ... vision  penalties  marking standing_tackle sliding_tackle gk_diving  \\\n",
       "0  ...   54.0       48.0     65.0            69.0           69.0       6.0   \n",
       "1  ...   54.0       48.0     65.0            69.0           69.0       6.0   \n",
       "2  ...   54.0       48.0     65.0            66.0           69.0       6.0   \n",
       "3  ...   53.0       47.0     62.0            63.0           66.0       5.0   \n",
       "4  ...   53.0       47.0     62.0            63.0           66.0       5.0   \n",
       "\n",
       "   gk_handling  gk_kicking  gk_positioning  gk_reflexes  \n",
       "0         11.0        10.0             8.0          8.0  \n",
       "1         11.0        10.0             8.0          8.0  \n",
       "2         11.0        10.0             8.0          8.0  \n",
       "3         10.0         9.0             7.0          7.0  \n",
       "4         10.0         9.0             7.0          7.0  \n",
       "\n",
       "[5 rows x 49 columns]"
      ]
     },
     "execution_count": 26,
     "metadata": {},
     "output_type": "execute_result"
    }
   ],
   "source": [
    "df_player.head()"
   ]
  },
  {
   "cell_type": "code",
   "execution_count": 27,
   "metadata": {},
   "outputs": [
    {
     "name": "stdout",
     "output_type": "stream",
     "text": [
      "<class 'pandas.core.frame.DataFrame'>\n",
      "RangeIndex: 183978 entries, 0 to 183977\n",
      "Data columns (total 49 columns):\n",
      " #   Column               Non-Null Count   Dtype  \n",
      "---  ------               --------------   -----  \n",
      " 0   id                   183978 non-null  int64  \n",
      " 1   player_api_id        183978 non-null  int64  \n",
      " 2   player_name          183978 non-null  object \n",
      " 3   player_fifa_api_id   183978 non-null  int64  \n",
      " 4   birthday             183978 non-null  object \n",
      " 5   height               183978 non-null  float64\n",
      " 6   weight               183978 non-null  int64  \n",
      " 7   id                   183978 non-null  int64  \n",
      " 8   player_fifa_api_id   183978 non-null  int64  \n",
      " 9   player_api_id        183978 non-null  int64  \n",
      " 10  date                 183978 non-null  object \n",
      " 11  overall_rating       183142 non-null  float64\n",
      " 12  potential            183142 non-null  float64\n",
      " 13  preferred_foot       183142 non-null  object \n",
      " 14  attacking_work_rate  180748 non-null  object \n",
      " 15  defensive_work_rate  183142 non-null  object \n",
      " 16  crossing             183142 non-null  float64\n",
      " 17  finishing            183142 non-null  float64\n",
      " 18  heading_accuracy     183142 non-null  float64\n",
      " 19  short_passing        183142 non-null  float64\n",
      " 20  volleys              181265 non-null  float64\n",
      " 21  dribbling            183142 non-null  float64\n",
      " 22  curve                181265 non-null  float64\n",
      " 23  free_kick_accuracy   183142 non-null  float64\n",
      " 24  long_passing         183142 non-null  float64\n",
      " 25  ball_control         183142 non-null  float64\n",
      " 26  acceleration         183142 non-null  float64\n",
      " 27  sprint_speed         183142 non-null  float64\n",
      " 28  agility              181265 non-null  float64\n",
      " 29  reactions            183142 non-null  float64\n",
      " 30  balance              181265 non-null  float64\n",
      " 31  shot_power           183142 non-null  float64\n",
      " 32  jumping              181265 non-null  float64\n",
      " 33  stamina              183142 non-null  float64\n",
      " 34  strength             183142 non-null  float64\n",
      " 35  long_shots           183142 non-null  float64\n",
      " 36  aggression           183142 non-null  float64\n",
      " 37  interceptions        183142 non-null  float64\n",
      " 38  positioning          183142 non-null  float64\n",
      " 39  vision               181265 non-null  float64\n",
      " 40  penalties            183142 non-null  float64\n",
      " 41  marking              183142 non-null  float64\n",
      " 42  standing_tackle      183142 non-null  float64\n",
      " 43  sliding_tackle       181265 non-null  float64\n",
      " 44  gk_diving            183142 non-null  float64\n",
      " 45  gk_handling          183142 non-null  float64\n",
      " 46  gk_kicking           183142 non-null  float64\n",
      " 47  gk_positioning       183142 non-null  float64\n",
      " 48  gk_reflexes          183142 non-null  float64\n",
      "dtypes: float64(36), int64(7), object(6)\n",
      "memory usage: 68.8+ MB\n"
     ]
    }
   ],
   "source": [
    "df_player.info()"
   ]
  },
  {
   "cell_type": "markdown",
   "metadata": {},
   "source": [
    "> We can see that there are some missing values in the penalties column, but we are only interested in the largest values, so replacing them with the mean will not make a difference. Therefore, we can drop the missing values or leave them in the dataframe."
   ]
  },
  {
   "cell_type": "code",
   "execution_count": 28,
   "metadata": {},
   "outputs": [
    {
     "data": {
      "text/html": [
       "<div>\n",
       "<style scoped>\n",
       "    .dataframe tbody tr th:only-of-type {\n",
       "        vertical-align: middle;\n",
       "    }\n",
       "\n",
       "    .dataframe tbody tr th {\n",
       "        vertical-align: top;\n",
       "    }\n",
       "\n",
       "    .dataframe thead th {\n",
       "        text-align: right;\n",
       "    }\n",
       "</style>\n",
       "<table border=\"1\" class=\"dataframe\">\n",
       "  <thead>\n",
       "    <tr style=\"text-align: right;\">\n",
       "      <th></th>\n",
       "      <th>player_name</th>\n",
       "      <th>date</th>\n",
       "      <th>penalties</th>\n",
       "    </tr>\n",
       "  </thead>\n",
       "  <tbody>\n",
       "    <tr>\n",
       "      <th>149591</th>\n",
       "      <td>Rickie Lambert</td>\n",
       "      <td>2016-03-10 00:00:00</td>\n",
       "      <td>96.0</td>\n",
       "    </tr>\n",
       "    <tr>\n",
       "      <th>149592</th>\n",
       "      <td>Rickie Lambert</td>\n",
       "      <td>2015-12-24 00:00:00</td>\n",
       "      <td>96.0</td>\n",
       "    </tr>\n",
       "    <tr>\n",
       "      <th>149593</th>\n",
       "      <td>Rickie Lambert</td>\n",
       "      <td>2015-10-23 00:00:00</td>\n",
       "      <td>96.0</td>\n",
       "    </tr>\n",
       "    <tr>\n",
       "      <th>149594</th>\n",
       "      <td>Rickie Lambert</td>\n",
       "      <td>2015-09-21 00:00:00</td>\n",
       "      <td>96.0</td>\n",
       "    </tr>\n",
       "    <tr>\n",
       "      <th>149595</th>\n",
       "      <td>Rickie Lambert</td>\n",
       "      <td>2015-02-27 00:00:00</td>\n",
       "      <td>95.0</td>\n",
       "    </tr>\n",
       "  </tbody>\n",
       "</table>\n",
       "</div>"
      ],
      "text/plain": [
       "           player_name                 date  penalties\n",
       "149591  Rickie Lambert  2016-03-10 00:00:00       96.0\n",
       "149592  Rickie Lambert  2015-12-24 00:00:00       96.0\n",
       "149593  Rickie Lambert  2015-10-23 00:00:00       96.0\n",
       "149594  Rickie Lambert  2015-09-21 00:00:00       96.0\n",
       "149595  Rickie Lambert  2015-02-27 00:00:00       95.0"
      ]
     },
     "execution_count": 28,
     "metadata": {},
     "output_type": "execute_result"
    }
   ],
   "source": [
    "df_most_penalties = df_player.sort_values(by=['penalties', 'date'], ascending=False).head()\n",
    "df_most_penalties[['player_name', 'date', 'penalties']]"
   ]
  },
  {
   "cell_type": "markdown",
   "metadata": {},
   "source": [
    "> We can see that Rickie Lambert had the largest measure in the penalties attribute overall."
   ]
  },
  {
   "cell_type": "markdown",
   "metadata": {},
   "source": [
    "### Research Question 3: Which factors lead to the most victories?"
   ]
  },
  {
   "cell_type": "markdown",
   "metadata": {},
   "source": [
    "### Home Team vs Away Team "
   ]
  },
  {
   "cell_type": "code",
   "execution_count": 29,
   "metadata": {},
   "outputs": [
    {
     "data": {
      "text/plain": [
       "(11917, 10)"
      ]
     },
     "execution_count": 29,
     "metadata": {},
     "output_type": "execute_result"
    }
   ],
   "source": [
    "df_match_home = df_match.query('home_team_goal > away_team_goal')\n",
    "df_match_home.shape"
   ]
  },
  {
   "cell_type": "code",
   "execution_count": 30,
   "metadata": {},
   "outputs": [
    {
     "data": {
      "text/plain": [
       "(7466, 10)"
      ]
     },
     "execution_count": 30,
     "metadata": {},
     "output_type": "execute_result"
    }
   ],
   "source": [
    "df_match_away = df_match.query('home_team_goal < away_team_goal')\n",
    "df_match_away.shape"
   ]
  },
  {
   "cell_type": "code",
   "execution_count": 31,
   "metadata": {},
   "outputs": [
    {
     "data": {
      "text/plain": [
       "(6596, 10)"
      ]
     },
     "execution_count": 31,
     "metadata": {},
     "output_type": "execute_result"
    }
   ],
   "source": [
    "df_match_draw = df_match.query('home_team_goal == away_team_goal')\n",
    "df_match_draw.shape"
   ]
  },
  {
   "cell_type": "code",
   "execution_count": 32,
   "metadata": {},
   "outputs": [
    {
     "data": {
      "image/png": "[encoded data removed]",
      "text/plain": [
       "<Figure size 432x288 with 1 Axes>"
      ]
     },
     "metadata": {},
     "output_type": "display_data"
    }
   ],
   "source": [
    "labels = ['home team', 'away team', 'draw']\n",
    "count = [df_match_home.shape[0], df_match_away.shape[0], df_match_draw.shape[0]]\n",
    "plt.pie(count, labels=labels)\n",
    "plt.legend()\n",
    "plt.title('The winner of home-away matches');"
   ]
  },
  {
   "cell_type": "markdown",
   "metadata": {},
   "source": [
    "> From the above figure, we can deduce that the teams are more likely to win the match when they are the home team."
   ]
  },
  {
   "cell_type": "markdown",
   "metadata": {},
   "source": [
    "### Team attributes"
   ]
  },
  {
   "cell_type": "markdown",
   "metadata": {},
   "source": [
    "> In the following cells, I am trying to find a correlation between the number of wins and the team attribues.\n",
    "\n",
    "\n",
    "> First, I will compute the total wins over the time period for each team, then I will calculate the average of each team attribute for each team over the time period.\n",
    "> Finally, I will try to visualize the relation between each team attribute and the wins count in order to see if there is a correlation or not. "
   ]
  },
  {
   "cell_type": "code",
   "execution_count": 33,
   "metadata": {},
   "outputs": [
    {
     "data": {
      "text/plain": [
       "(25979, 10)"
      ]
     },
     "execution_count": 33,
     "metadata": {},
     "output_type": "execute_result"
    }
   ],
   "source": [
    "df_match.shape"
   ]
  },
  {
   "cell_type": "code",
   "execution_count": 34,
   "metadata": {},
   "outputs": [
    {
     "data": {
      "text/plain": [
       "(19383, 10)"
      ]
     },
     "execution_count": 34,
     "metadata": {},
     "output_type": "execute_result"
    }
   ],
   "source": [
    "df_match_not_draw = df_match.query('home_team_goal != away_team_goal')\n",
    "df_match_not_draw.shape"
   ]
  },
  {
   "cell_type": "code",
   "execution_count": 35,
   "metadata": {},
   "outputs": [],
   "source": [
    "def winner(df_match_not_draw):\n",
    "    if df_match_not_draw['home_team_goal'] > df_match_not_draw['away_team_goal']:\n",
    "        return df_match_not_draw.home_team\n",
    "    return df_match_not_draw.away_team"
   ]
  },
  {
   "cell_type": "code",
   "execution_count": 36,
   "metadata": {},
   "outputs": [
    {
     "name": "stderr",
     "output_type": "stream",
     "text": [
      "<ipython-input-36-f6177845b0b9>:1: SettingWithCopyWarning: \n",
      "A value is trying to be set on a copy of a slice from a DataFrame.\n",
      "Try using .loc[row_indexer,col_indexer] = value instead\n",
      "\n",
      "See the caveats in the documentation: https://pandas.pydata.org/pandas-docs/stable/user_guide/indexing.html#returning-a-view-versus-a-copy\n",
      "  df_match_not_draw['winner'] = df_match_not_draw.apply(winner, axis= 1)\n"
     ]
    }
   ],
   "source": [
    "df_match_not_draw['winner'] = df_match_not_draw.apply(winner, axis= 1)"
   ]
  },
  {
   "cell_type": "code",
   "execution_count": 37,
   "metadata": {},
   "outputs": [
    {
     "data": {
      "text/html": [
       "<div>\n",
       "<style scoped>\n",
       "    .dataframe tbody tr th:only-of-type {\n",
       "        vertical-align: middle;\n",
       "    }\n",
       "\n",
       "    .dataframe tbody tr th {\n",
       "        vertical-align: top;\n",
       "    }\n",
       "\n",
       "    .dataframe thead th {\n",
       "        text-align: right;\n",
       "    }\n",
       "</style>\n",
       "<table border=\"1\" class=\"dataframe\">\n",
       "  <thead>\n",
       "    <tr style=\"text-align: right;\">\n",
       "      <th></th>\n",
       "      <th>id</th>\n",
       "      <th>country_name</th>\n",
       "      <th>league_name</th>\n",
       "      <th>season</th>\n",
       "      <th>stage</th>\n",
       "      <th>date</th>\n",
       "      <th>home_team</th>\n",
       "      <th>away_team</th>\n",
       "      <th>home_team_goal</th>\n",
       "      <th>away_team_goal</th>\n",
       "      <th>winner</th>\n",
       "    </tr>\n",
       "  </thead>\n",
       "  <tbody>\n",
       "    <tr>\n",
       "      <th>0</th>\n",
       "      <td>24559</td>\n",
       "      <td>Switzerland</td>\n",
       "      <td>Switzerland Super League</td>\n",
       "      <td>2008/2009</td>\n",
       "      <td>1</td>\n",
       "      <td>2008-07-18 00:00:00</td>\n",
       "      <td>BSC Young Boys</td>\n",
       "      <td>FC Basel</td>\n",
       "      <td>1</td>\n",
       "      <td>2</td>\n",
       "      <td>FC Basel</td>\n",
       "    </tr>\n",
       "    <tr>\n",
       "      <th>1</th>\n",
       "      <td>24560</td>\n",
       "      <td>Switzerland</td>\n",
       "      <td>Switzerland Super League</td>\n",
       "      <td>2008/2009</td>\n",
       "      <td>1</td>\n",
       "      <td>2008-07-19 00:00:00</td>\n",
       "      <td>FC Aarau</td>\n",
       "      <td>FC Sion</td>\n",
       "      <td>3</td>\n",
       "      <td>1</td>\n",
       "      <td>FC Aarau</td>\n",
       "    </tr>\n",
       "    <tr>\n",
       "      <th>2</th>\n",
       "      <td>24561</td>\n",
       "      <td>Switzerland</td>\n",
       "      <td>Switzerland Super League</td>\n",
       "      <td>2008/2009</td>\n",
       "      <td>1</td>\n",
       "      <td>2008-07-20 00:00:00</td>\n",
       "      <td>FC Luzern</td>\n",
       "      <td>FC Vaduz</td>\n",
       "      <td>1</td>\n",
       "      <td>2</td>\n",
       "      <td>FC Vaduz</td>\n",
       "    </tr>\n",
       "    <tr>\n",
       "      <th>3</th>\n",
       "      <td>24562</td>\n",
       "      <td>Switzerland</td>\n",
       "      <td>Switzerland Super League</td>\n",
       "      <td>2008/2009</td>\n",
       "      <td>1</td>\n",
       "      <td>2008-07-20 00:00:00</td>\n",
       "      <td>Neuchâtel Xamax</td>\n",
       "      <td>FC Zürich</td>\n",
       "      <td>1</td>\n",
       "      <td>2</td>\n",
       "      <td>FC Zürich</td>\n",
       "    </tr>\n",
       "    <tr>\n",
       "      <th>4</th>\n",
       "      <td>24613</td>\n",
       "      <td>Switzerland</td>\n",
       "      <td>Switzerland Super League</td>\n",
       "      <td>2008/2009</td>\n",
       "      <td>2</td>\n",
       "      <td>2008-07-23 00:00:00</td>\n",
       "      <td>FC Basel</td>\n",
       "      <td>Grasshopper Club Zürich</td>\n",
       "      <td>1</td>\n",
       "      <td>0</td>\n",
       "      <td>FC Basel</td>\n",
       "    </tr>\n",
       "  </tbody>\n",
       "</table>\n",
       "</div>"
      ],
      "text/plain": [
       "      id country_name               league_name     season  stage  \\\n",
       "0  24559  Switzerland  Switzerland Super League  2008/2009      1   \n",
       "1  24560  Switzerland  Switzerland Super League  2008/2009      1   \n",
       "2  24561  Switzerland  Switzerland Super League  2008/2009      1   \n",
       "3  24562  Switzerland  Switzerland Super League  2008/2009      1   \n",
       "4  24613  Switzerland  Switzerland Super League  2008/2009      2   \n",
       "\n",
       "                  date        home_team                away_team  \\\n",
       "0  2008-07-18 00:00:00   BSC Young Boys                 FC Basel   \n",
       "1  2008-07-19 00:00:00         FC Aarau                  FC Sion   \n",
       "2  2008-07-20 00:00:00        FC Luzern                 FC Vaduz   \n",
       "3  2008-07-20 00:00:00  Neuchâtel Xamax                FC Zürich   \n",
       "4  2008-07-23 00:00:00         FC Basel  Grasshopper Club Zürich   \n",
       "\n",
       "   home_team_goal  away_team_goal     winner  \n",
       "0               1               2   FC Basel  \n",
       "1               3               1   FC Aarau  \n",
       "2               1               2   FC Vaduz  \n",
       "3               1               2  FC Zürich  \n",
       "4               1               0   FC Basel  "
      ]
     },
     "execution_count": 37,
     "metadata": {},
     "output_type": "execute_result"
    }
   ],
   "source": [
    "df_match_not_draw.head()"
   ]
  },
  {
   "cell_type": "code",
   "execution_count": 38,
   "metadata": {},
   "outputs": [
    {
     "data": {
      "text/plain": [
       "winner\n",
       "1. FC Kaiserslautern    17\n",
       "1. FC Köln              60\n",
       "1. FC Nürnberg          49\n",
       "1. FSV Mainz 05         88\n",
       "AC Ajaccio              22\n",
       "dtype: int64"
      ]
     },
     "execution_count": 38,
     "metadata": {},
     "output_type": "execute_result"
    }
   ],
   "source": [
    "df_match_winners = df_match_not_draw.groupby('winner').size()\n",
    "df_match_winners.head()"
   ]
  },
  {
   "cell_type": "code",
   "execution_count": 39,
   "metadata": {},
   "outputs": [
    {
     "data": {
      "text/html": [
       "<div>\n",
       "<style scoped>\n",
       "    .dataframe tbody tr th:only-of-type {\n",
       "        vertical-align: middle;\n",
       "    }\n",
       "\n",
       "    .dataframe tbody tr th {\n",
       "        vertical-align: top;\n",
       "    }\n",
       "\n",
       "    .dataframe thead th {\n",
       "        text-align: right;\n",
       "    }\n",
       "</style>\n",
       "<table border=\"1\" class=\"dataframe\">\n",
       "  <thead>\n",
       "    <tr style=\"text-align: right;\">\n",
       "      <th></th>\n",
       "      <th>buildUpPlaySpeed</th>\n",
       "      <th>buildUpPlayDribbling</th>\n",
       "      <th>buildUpPlayPassing</th>\n",
       "      <th>chanceCreationPassing</th>\n",
       "      <th>chanceCreationCrossing</th>\n",
       "      <th>chanceCreationShooting</th>\n",
       "      <th>defencePressure</th>\n",
       "      <th>defenceAggression</th>\n",
       "      <th>defenceTeamWidth</th>\n",
       "    </tr>\n",
       "    <tr>\n",
       "      <th>team</th>\n",
       "      <th></th>\n",
       "      <th></th>\n",
       "      <th></th>\n",
       "      <th></th>\n",
       "      <th></th>\n",
       "      <th></th>\n",
       "      <th></th>\n",
       "      <th></th>\n",
       "      <th></th>\n",
       "    </tr>\n",
       "  </thead>\n",
       "  <tbody>\n",
       "    <tr>\n",
       "      <th>1. FC Kaiserslautern</th>\n",
       "      <td>51.166667</td>\n",
       "      <td>37.323810</td>\n",
       "      <td>51.666667</td>\n",
       "      <td>47.166667</td>\n",
       "      <td>62.000000</td>\n",
       "      <td>59.666667</td>\n",
       "      <td>46.833333</td>\n",
       "      <td>52.833333</td>\n",
       "      <td>55.166667</td>\n",
       "    </tr>\n",
       "    <tr>\n",
       "      <th>1. FC Köln</th>\n",
       "      <td>57.333333</td>\n",
       "      <td>36.990476</td>\n",
       "      <td>61.166667</td>\n",
       "      <td>55.166667</td>\n",
       "      <td>41.666667</td>\n",
       "      <td>59.000000</td>\n",
       "      <td>45.000000</td>\n",
       "      <td>51.166667</td>\n",
       "      <td>60.833333</td>\n",
       "    </tr>\n",
       "    <tr>\n",
       "      <th>1. FC Nürnberg</th>\n",
       "      <td>45.333333</td>\n",
       "      <td>40.323810</td>\n",
       "      <td>47.500000</td>\n",
       "      <td>50.500000</td>\n",
       "      <td>53.000000</td>\n",
       "      <td>59.166667</td>\n",
       "      <td>43.333333</td>\n",
       "      <td>50.500000</td>\n",
       "      <td>44.000000</td>\n",
       "    </tr>\n",
       "    <tr>\n",
       "      <th>1. FSV Mainz 05</th>\n",
       "      <td>61.833333</td>\n",
       "      <td>36.490476</td>\n",
       "      <td>51.500000</td>\n",
       "      <td>53.000000</td>\n",
       "      <td>47.666667</td>\n",
       "      <td>54.500000</td>\n",
       "      <td>52.500000</td>\n",
       "      <td>62.500000</td>\n",
       "      <td>49.666667</td>\n",
       "    </tr>\n",
       "    <tr>\n",
       "      <th>AC Ajaccio</th>\n",
       "      <td>60.166667</td>\n",
       "      <td>39.323810</td>\n",
       "      <td>48.833333</td>\n",
       "      <td>50.333333</td>\n",
       "      <td>40.666667</td>\n",
       "      <td>52.166667</td>\n",
       "      <td>37.833333</td>\n",
       "      <td>50.500000</td>\n",
       "      <td>48.666667</td>\n",
       "    </tr>\n",
       "  </tbody>\n",
       "</table>\n",
       "</div>"
      ],
      "text/plain": [
       "                      buildUpPlaySpeed  buildUpPlayDribbling  \\\n",
       "team                                                           \n",
       "1. FC Kaiserslautern         51.166667             37.323810   \n",
       "1. FC Köln                   57.333333             36.990476   \n",
       "1. FC Nürnberg               45.333333             40.323810   \n",
       "1. FSV Mainz 05              61.833333             36.490476   \n",
       "AC Ajaccio                   60.166667             39.323810   \n",
       "\n",
       "                      buildUpPlayPassing  chanceCreationPassing  \\\n",
       "team                                                              \n",
       "1. FC Kaiserslautern           51.666667              47.166667   \n",
       "1. FC Köln                     61.166667              55.166667   \n",
       "1. FC Nürnberg                 47.500000              50.500000   \n",
       "1. FSV Mainz 05                51.500000              53.000000   \n",
       "AC Ajaccio                     48.833333              50.333333   \n",
       "\n",
       "                      chanceCreationCrossing  chanceCreationShooting  \\\n",
       "team                                                                   \n",
       "1. FC Kaiserslautern               62.000000               59.666667   \n",
       "1. FC Köln                         41.666667               59.000000   \n",
       "1. FC Nürnberg                     53.000000               59.166667   \n",
       "1. FSV Mainz 05                    47.666667               54.500000   \n",
       "AC Ajaccio                         40.666667               52.166667   \n",
       "\n",
       "                      defencePressure  defenceAggression  defenceTeamWidth  \n",
       "team                                                                        \n",
       "1. FC Kaiserslautern        46.833333          52.833333         55.166667  \n",
       "1. FC Köln                  45.000000          51.166667         60.833333  \n",
       "1. FC Nürnberg              43.333333          50.500000         44.000000  \n",
       "1. FSV Mainz 05             52.500000          62.500000         49.666667  \n",
       "AC Ajaccio                  37.833333          50.500000         48.666667  "
      ]
     },
     "execution_count": 39,
     "metadata": {},
     "output_type": "execute_result"
    }
   ],
   "source": [
    "df_team_mean_attr = df_team.groupby('team').mean()\n",
    "df_team_mean_attr.head()"
   ]
  },
  {
   "cell_type": "code",
   "execution_count": 40,
   "metadata": {},
   "outputs": [],
   "source": [
    "result = pd.merge(df_match_winners.rename('wins'), df_team_mean_attr, left_index= True, right_index= True)"
   ]
  },
  {
   "cell_type": "code",
   "execution_count": 41,
   "metadata": {},
   "outputs": [
    {
     "data": {
      "image/png": "[encoded data removed]",
      "text/plain": [
       "<Figure size 1800x180 with 11 Axes>"
      ]
     },
     "metadata": {
      "needs_background": "light"
     },
     "output_type": "display_data"
    }
   ],
   "source": [
    "sns.pairplot(result, y_vars='wins');"
   ]
  },
  {
   "cell_type": "markdown",
   "metadata": {},
   "source": [
    "> From the above figure, there is no clear correlation between any of the team attributes and the wins count."
   ]
  },
  {
   "cell_type": "markdown",
   "metadata": {},
   "source": [
    "<a id='conclusions'></a>\n",
    "## Conclusions\n",
    "\n",
    "* First, we showed the most improved team according to their team attributes over the time period.\n",
    "* Second, we used the data to find the best player in penalties.\n",
    "* Finally, we tries to find which factors decide the winning team.\n",
    "\n",
    "Some Challanges and limitations:\n",
    "* Dealing with sqlite files.\n",
    "* Missing data in many columns.\n",
    "* The distribution of buildUpPlayDribbling column is not normal.\n",
    "* There are many tables, and in order to use these tables, I had to merge some tables with others.\n",
    "* I could not find a clear correlation between the team attributes and the number of wins."
   ]
  }
 ],
 "metadata": {
  "kernelspec": {
   "display_name": "Python 3",
   "language": "python",
   "name": "python3"
  },
  "language_info": {
   "codemirror_mode": {
    "name": "ipython",
    "version": 3
   },
   "file_extension": ".py",
   "mimetype": "text/x-python",
   "name": "python",
   "nbconvert_exporter": "python",
   "pygments_lexer": "ipython3",
   "version": "3.8.8"
  }
 },
 "nbformat": 4,
 "nbformat_minor": 2
}
